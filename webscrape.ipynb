{
 "cells": [
  {
   "cell_type": "code",
   "execution_count": 2,
   "metadata": {},
   "outputs": [],
   "source": [
    "import urllib3\n",
    "from bs4 import BeautifulSoup\n",
    "import pandas as pd\n",
    "import matplotlib.pyplot as plt "
   ]
  },
  {
   "cell_type": "code",
   "execution_count": 67,
   "metadata": {},
   "outputs": [],
   "source": [
    "#getlist from this csv: https://www.astro.keele.ac.uk/jkt/tepcat/obliquity.csv\n",
    "\n",
    "list_of_systems = pd.read_csv(\"https://www.astro.keele.ac.uk/jkt/tepcat/obliquity.csv\",skiprows=[1,2]) "
   ]
  },
  {
   "cell_type": "code",
   "execution_count": 71,
   "metadata": {},
   "outputs": [],
   "source": [
    "#strip out padding spaces in column names\n",
    "list_of_systems.columns = list_of_systems.columns.str.strip()"
   ]
  },
  {
   "cell_type": "code",
   "execution_count": 72,
   "metadata": {},
   "outputs": [
    {
     "name": "stdout",
     "output_type": "stream",
     "text": [
      "              System  Teff  errup  errdn    Pflag  lambda   errup   errdn  \\\n",
      "0    55_Cnc_e         5172     18     18     n      72.40   12.70   11.50   \n",
      "1    CoRoT-01         5950    150    150     y      77.00   11.00   11.00   \n",
      "2    CoRoT-02         5598     50     50     y       7.20    4.50    4.50   \n",
      "3    CoRoT-02         5598     50     50     n       4.70   12.30   12.30   \n",
      "4    CoRoT-02         5598     50     50     n      -1.00    6.00    7.70   \n",
      "5    CoRoT-02         5598     50     50     n       4.00    5.90    6.10   \n",
      "6    CoRoT-03         6558     44     44     y     -37.60   22.30   10.00   \n",
      "7    CoRoT-11         6343     72     72     y       0.10    2.60    2.60   \n",
      "8    CoRoT-18         5440    100    100     y     -10.00   20.00   20.00   \n",
      "9    CoRoT-19         6090     70     70     y     -52.00   27.00   22.00   \n",
      "10   DS_Tuc           5598     28     59     y       2.93    0.88    0.87   \n",
      "11   EPIC_246851721   6189     47     52     y      -1.48    0.85    0.85   \n",
      "12   GJ_0436          3416     54     54     y      72.00   33.00   24.00   \n",
      "13   HAT-P-01         5975     50     50     y       3.70    2.10    2.10   \n",
      "14   HAT-P-02         6290     60     60     n       1.20   13.40   13.40   \n",
      "15   HAT-P-02         6290     60     60     y       0.20   12.20   12.50   \n",
      "16   HAT-P-02         6290     60     60     n       9.00   10.00   10.00   \n",
      "17   HAT-P-03         5190     80     80     y      21.20    8.70    8.70   \n",
      "18   HAT-P-04         6036     46     46     y      -4.90   11.90   11.90   \n",
      "19   HAT-P-06         6570     80     80     n     166.00   10.00   10.00   \n",
      "20   HAT-P-06         6570     80     80     y     165.00    6.00    6.00   \n",
      "21   HAT-P-07         6310     15     15     n     182.50    9.40    9.40   \n",
      "22   HAT-P-07         6310     15     15     n    -132.60   10.50   16.30   \n",
      "23   HAT-P-07         6310     15     15     n     155.00   37.00   37.00   \n",
      "24   HAT-P-07         6310     15     15     y     220.30    8.20    9.30   \n",
      "25   HAT-P-07         6310     15     15     n    -999.00 -999.00 -999.00   \n",
      "26   HAT-P-07         6310     15     15     n     142.00   12.00   16.00   \n",
      "27   HAT-P-07         6310     15     15     n     136.00   16.00   22.00   \n",
      "28   HAT-P-07         6310     15     15     n    -999.00 -999.00 -999.00   \n",
      "29   HAT-P-08         6200     80     80     n      -9.70    9.00    7.70   \n",
      "..               ...   ...    ...    ...      ...     ...     ...     ...   \n",
      "199  WASP-079         6600    100    100     n     -95.20    0.90    1.00   \n",
      "200  WASP-079         6600    100    100     y     -99.10    4.10    3.90   \n",
      "201  WASP-080         4145    100    100     n       0.00   20.00   20.00   \n",
      "202  WASP-080         4145    100    100     y     -14.00   14.00   14.00   \n",
      "203  WASP-084         5280     80     80     y      -0.30    1.70    1.70   \n",
      "204  WASP-085         5685     65     65     y       0.00   14.00   14.00   \n",
      "205  WASP-087         6450    120    120     y      -8.00   11.00   11.00   \n",
      "206  WASP-094         6170     80     80     y     151.00   16.00   23.00   \n",
      "207  WASP-100         6940    120    120     y      79.00   19.00   10.00   \n",
      "208  WASP-103         6110    160    160     y       3.00   33.00   33.00   \n",
      "209  WASP-107         4430    120    120     y    -999.00 -999.00 -999.00   \n",
      "210  WASP-109         6520    140    140     y      99.00   10.00    9.00   \n",
      "211  WASP-111         6400    150    150     y      -5.00   16.00   16.00   \n",
      "212  WASP-117         6040     90     90     y      44.00   11.00   11.00   \n",
      "213  WASP-121         6460    140    140     n    -257.80    5.50    5.30   \n",
      "214  WASP-121         6460    140    140     y      87.20    0.41    0.45   \n",
      "215  WASP-134         5700    100    100     y     -43.70    9.90    9.90   \n",
      "216  WASP-166         6050     50     50     y      -3.00    5.00    5.00   \n",
      "217  WASP-167         6900    150    150     y    -165.00    5.00    5.00   \n",
      "218  WASP-174         6400    100    100     y      31.00    1.00    1.00   \n",
      "219  WASP-180         6600    200    200     y    -162.00    5.00    5.00   \n",
      "220  WASP-189         8000    100    100     y      89.30    1.40    1.40   \n",
      "221  WASP-190         6400    100    100     y      21.00    6.00    6.00   \n",
      "222  XO-2             5332     57     57     n      10.00   72.00   72.00   \n",
      "223  XO-2             5332     57     57     y       7.00   11.00   11.00   \n",
      "224  XO-3             6429     75     75     n      70.00   15.00   15.00   \n",
      "225  XO-3             6429     75     75     n      37.30    3.70    3.70   \n",
      "226  XO-3             6429     75     75     y      37.30    3.00    3.00   \n",
      "227  XO-4             6397     70     70     y     -46.70    8.10    6.10   \n",
      "228  XO-6             6720    100    100     y     -20.70    2.30    2.30   \n",
      "\n",
      "       psi  errup   .1  errdn   .1  \\\n",
      "0   -999.0     -999.00     -999.00   \n",
      "1   -999.0     -999.00     -999.00   \n",
      "2   -999.0     -999.00     -999.00   \n",
      "3   -999.0     -999.00     -999.00   \n",
      "4   -999.0     -999.00     -999.00   \n",
      "5   -999.0     -999.00     -999.00   \n",
      "6   -999.0     -999.00     -999.00   \n",
      "7   -999.0     -999.00     -999.00   \n",
      "8     20.0       20.00       20.00   \n",
      "9   -999.0     -999.00     -999.00   \n",
      "10  -999.0     -999.00     -999.00   \n",
      "11  -999.0     -999.00     -999.00   \n",
      "12    80.0       21.00       18.00   \n",
      "13  -999.0     -999.00     -999.00   \n",
      "14  -999.0     -999.00     -999.00   \n",
      "15  -999.0     -999.00     -999.00   \n",
      "16  -999.0     -999.00     -999.00   \n",
      "17  -999.0     -999.00     -999.00   \n",
      "18  -999.0     -999.00     -999.00   \n",
      "19  -999.0     -999.00     -999.00   \n",
      "20  -999.0     -999.00     -999.00   \n",
      "21    94.6        5.50        3.00   \n",
      "22  -999.0     -999.00     -999.00   \n",
      "23  -999.0     -999.00     -999.00   \n",
      "24   115.0       19.00       16.00   \n",
      "25    97.0       14.00       14.00   \n",
      "26   101.0        2.00        2.00   \n",
      "27    87.0        2.00        2.00   \n",
      "28   116.4       30.20       14.70   \n",
      "29  -999.0     -999.00     -999.00   \n",
      "..     ...         ...         ...   \n",
      "199 -999.0     -999.00     -999.00   \n",
      "200 -999.0     -999.00     -999.00   \n",
      "201 -999.0     -999.00     -999.00   \n",
      "202 -999.0     -999.00     -999.00   \n",
      "203   17.3        7.70        7.70   \n",
      "204 -999.0     -999.00     -999.00   \n",
      "205 -999.0     -999.00     -999.00   \n",
      "206 -999.0     -999.00     -999.00   \n",
      "207 -999.0     -999.00     -999.00   \n",
      "208 -999.0     -999.00     -999.00   \n",
      "209   90.0       50.00       50.00   \n",
      "210 -999.0     -999.00     -999.00   \n",
      "211 -999.0     -999.00     -999.00   \n",
      "212   69.5        3.60        3.10   \n",
      "213 -999.0     -999.00     -999.00   \n",
      "214   88.1        0.25        0.25   \n",
      "215 -999.0     -999.00     -999.00   \n",
      "216 -999.0     -999.00     -999.00   \n",
      "217 -999.0     -999.00     -999.00   \n",
      "218 -999.0     -999.00     -999.00   \n",
      "219 -999.0     -999.00     -999.00   \n",
      "220   90.0        5.89        5.80   \n",
      "221 -999.0     -999.00     -999.00   \n",
      "222 -999.0     -999.00     -999.00   \n",
      "223   27.0       12.00       27.00   \n",
      "224 -999.0     -999.00     -999.00   \n",
      "225 -999.0     -999.00     -999.00   \n",
      "226 -999.0     -999.00     -999.00   \n",
      "227 -999.0     -999.00     -999.00   \n",
      "228 -999.0     -999.00     -999.00   \n",
      "\n",
      "                                  Author_string    Ephemeris_reference  \n",
      "0     Bourrier_&amp;_H&eacute;brard_(2014)        2014A+A...569A..65B   \n",
      "1     Pont_et_al._(2010)                          2010MNRAS.402L...1P   \n",
      "2     Bouchy_et_al._(2008)                        2008A+A...482L..25B   \n",
      "3     Nutzmann_et_al._(2011)                      2011ApJ...740L..10N   \n",
      "4     Czesla_et_al._(2012)                        2012A+A...539A.150C   \n",
      "5     Gillon_et_al._(2010)                        2010A+A...511A...3G   \n",
      "6     Triaud_et_al._(2009)                        2009A+A...506..377T   \n",
      "7     Gandolfi_et_al._(2012)                      2012A+A...543L...5G   \n",
      "8     H&eacute;brard_et_al._(2011)                2011A+A...533A.130H   \n",
      "9     Guenther_et_al._(2011)                      2012A+A...537A.136G   \n",
      "10    Zhou_et_al._(2019)                          arXiv:1912.04095      \n",
      "11    Espinoza_et_al._(2018)                      arXiv:1807.10298      \n",
      "12    Bourrier_et_al._(2018)                      2018Natur.553..477B   \n",
      "13    Johnson_et_al._(2008)                       2008ApJ...686..649J   \n",
      "14    Winn_et_al._(2007)                          2007ApJ...665L.167W   \n",
      "15    Loeillet_et_al._(2008)                      2008A+A...481..529L   \n",
      "16    Albrecht_et_al._(2012)                      2012ApJ...757...18A   \n",
      "17    Mancini_et_al._(2018)                       arXiv:1802.03859      \n",
      "18    Winn_et_al._(2011)                          2011AJ....141...63W   \n",
      "19    H&eacute;brard_et_al._(2011)                2011A+A...527L..11H   \n",
      "20    Albrecht_et_al._(2012)                      2012ApJ...757...18A   \n",
      "21    Winn_et_al._(2009)                          2009ApJ...703L..99W   \n",
      "22    Narita_et_al._(2009)                        2009PASJ...61L..35N   \n",
      "23    Albrecht_et_al._(2012)                      2012ApJ...757...18A   \n",
      "24    Benomar_et_al._(2014)                       2014PASJ...66...94B   \n",
      "25    Lund_et_al._(2014)                          2014A+A...570A..54L   \n",
      "26    Masuda_(2015)_solution_1                    2015ApJ...805...28M   \n",
      "27    Masuda_(2015)_solution_2                    2015ApJ...805...28M   \n",
      "28    Campante_et_al._(2016)                      2016ApJ...819...85C   \n",
      "29    Simpson_et_al._(2011)                       2011MNRAS.414.3023S   \n",
      "..                                          ...                    ...  \n",
      "199   Brown_et_al._(2017)                         2017MNRAS.464..810B   \n",
      "200   Johnson_et_al._(2017)                       2017AJ....154..137J   \n",
      "201   Triaud_et_al._(2013)                        2013A+A...551A..80T   \n",
      "202   Triaud_et_al._(2015)                        2015MNRAS.450.2279T   \n",
      "203   Anderson_et_al._(2015)                      2015ApJ...800L...9A   \n",
      "204   Mocnik_et_al._(2016)                        2016AJ....151..150M   \n",
      "205   Addison_et_al._(2016)                       2016ApJ...823...29A   \n",
      "206   Neveu-VanMalle_et_al._(2014)                2014A+A...572A..49N   \n",
      "207   Addison_et_al._(2018)                       arXiv:1809.00314      \n",
      "208   Addison_et_al._(2016)                       2016ApJ...823...29A   \n",
      "209   Dai_et_al._(2017)                           2017AJ....153..205D   \n",
      "210   Addison_et_al._(2018)                       arXiv:1809.00314      \n",
      "211   Anderson_et_al._(2014)                      arXiv:1410.3449       \n",
      "212   Lendl_et_al._(2013)                         2014A+A...568A..81L   \n",
      "213   Delrez_et_al._(2015)                        2016MNRAS.458.4025D   \n",
      "214   Bourrier_et_al._(2020)                      arXiv:2001.06836      \n",
      "215   Anderson_et_al._(2018)                      arXiv:1812.09264      \n",
      "216   Hellier_et_al._(2018)                       arXiv:1811.05292      \n",
      "217   Temple_et_al._(2017)                        2017MNRAS.471.2743T   \n",
      "218   Temple_et_al._(2018)                        2018MNRAS.480.5307T   \n",
      "219   Temple_et_al._(2019)                        arXiv:1903.08002      \n",
      "220   Anderson_et_al._(2018)                      arXiv:1809.04897      \n",
      "221   Temple_et_al._(2018)                        arXiv:1811.05742      \n",
      "222   Narita_et_al._(2011)                        2011PASJ...63L..67N   \n",
      "223   Damasso_et_al._(2015)                       2015A+A...575A.111D   \n",
      "224   H&eacute;brard_et_al._(2008)                2008A+A...488..763H   \n",
      "225   Winn_et_al._(2009)                          2009ApJ...700..302W   \n",
      "226   Hirano_et_al._(2011)                        2011PASJ...63L..57H   \n",
      "227   Narita_et_al._(2010)                        2010PASJ...62L..61N   \n",
      "228   Crouzet_et_al._(2010)                       2017AJ....153...94C   \n",
      "\n",
      "[229 rows x 13 columns]\n"
     ]
    }
   ],
   "source": [
    "print(list_of_systems)"
   ]
  },
  {
   "cell_type": "code",
   "execution_count": 73,
   "metadata": {},
   "outputs": [],
   "source": [
    "#strip out padding spaces in values\n",
    "list_sys=(list_of_systems['System'].str.strip()).values"
   ]
  },
  {
   "cell_type": "code",
   "execution_count": 74,
   "metadata": {},
   "outputs": [],
   "source": [
    "#remove duplicate entries\n",
    "list_sys = list(dict.fromkeys(list_sys))"
   ]
  },
  {
   "cell_type": "code",
   "execution_count": 75,
   "metadata": {},
   "outputs": [],
   "source": [
    "#remove the two planets that have missing mass and radius in Tepcat html files\n",
    "list_sys.remove('HATS-02')\n",
    "list_sys.remove('Kepler-408')"
   ]
  },
  {
   "cell_type": "code",
   "execution_count": 76,
   "metadata": {},
   "outputs": [],
   "source": [
    "system=list_sys"
   ]
  },
  {
   "cell_type": "code",
   "execution_count": 84,
   "metadata": {},
   "outputs": [],
   "source": [
    "k_list=list_of_systems[list_of_systems['Teff']<5200]"
   ]
  },
  {
   "cell_type": "code",
   "execution_count": 87,
   "metadata": {},
   "outputs": [],
   "source": [
    "k_list=(k_list['System'].str.strip()).values"
   ]
  },
  {
   "cell_type": "code",
   "execution_count": 88,
   "metadata": {},
   "outputs": [],
   "source": [
    "k_list = list(dict.fromkeys(k_list))"
   ]
  },
  {
   "cell_type": "code",
   "execution_count": 90,
   "metadata": {},
   "outputs": [
    {
     "data": {
      "text/plain": [
       "['55_Cnc_e',\n",
       " 'GJ_0436',\n",
       " 'HAT-P-03',\n",
       " 'HAT-P-11',\n",
       " 'HAT-P-12',\n",
       " 'HAT-P-18',\n",
       " 'HAT-P-20',\n",
       " 'HD_189733',\n",
       " 'Qatar-1',\n",
       " 'Qatar-2',\n",
       " 'WASP-002',\n",
       " 'WASP-011',\n",
       " 'WASP-043',\n",
       " 'WASP-052',\n",
       " 'WASP-053',\n",
       " 'WASP-069',\n",
       " 'WASP-080',\n",
       " 'WASP-107']"
      ]
     },
     "execution_count": 90,
     "metadata": {},
     "output_type": "execute_result"
    }
   ],
   "source": [
    "k_list"
   ]
  },
  {
   "cell_type": "code",
   "execution_count": 95,
   "metadata": {},
   "outputs": [],
   "source": [
    "#got this list from downloading this csv: https://www.astro.keele.ac.uk/jkt/tepcat/obliquity.csv and collecting the stars that fall between 2900 and 5200 in Teff\n",
    "\n",
    "kdwarfs = k_list"
   ]
  },
  {
   "cell_type": "code",
   "execution_count": 96,
   "metadata": {},
   "outputs": [],
   "source": [
    "df = pd.DataFrame(columns=['name','mass','radius'])"
   ]
  },
  {
   "cell_type": "code",
   "execution_count": 97,
   "metadata": {},
   "outputs": [
    {
     "name": "stderr",
     "output_type": "stream",
     "text": [
      "C:\\ProgramData\\Anaconda3\\lib\\site-packages\\urllib3\\connectionpool.py:847: InsecureRequestWarning: Unverified HTTPS request is being made. Adding certificate verification is strongly advised. See: https://urllib3.readthedocs.io/en/latest/advanced-usage.html#ssl-warnings\n",
      "  InsecureRequestWarning)\n"
     ]
    },
    {
     "name": "stdout",
     "output_type": "stream",
     "text": [
      "55_Cnc_e\n"
     ]
    },
    {
     "name": "stderr",
     "output_type": "stream",
     "text": [
      "C:\\ProgramData\\Anaconda3\\lib\\site-packages\\urllib3\\connectionpool.py:847: InsecureRequestWarning: Unverified HTTPS request is being made. Adding certificate verification is strongly advised. See: https://urllib3.readthedocs.io/en/latest/advanced-usage.html#ssl-warnings\n",
      "  InsecureRequestWarning)\n"
     ]
    },
    {
     "name": "stdout",
     "output_type": "stream",
     "text": [
      "CoRoT-01\n"
     ]
    },
    {
     "name": "stderr",
     "output_type": "stream",
     "text": [
      "C:\\ProgramData\\Anaconda3\\lib\\site-packages\\urllib3\\connectionpool.py:847: InsecureRequestWarning: Unverified HTTPS request is being made. Adding certificate verification is strongly advised. See: https://urllib3.readthedocs.io/en/latest/advanced-usage.html#ssl-warnings\n",
      "  InsecureRequestWarning)\n"
     ]
    },
    {
     "name": "stdout",
     "output_type": "stream",
     "text": [
      "CoRoT-02\n"
     ]
    },
    {
     "name": "stderr",
     "output_type": "stream",
     "text": [
      "C:\\ProgramData\\Anaconda3\\lib\\site-packages\\urllib3\\connectionpool.py:847: InsecureRequestWarning: Unverified HTTPS request is being made. Adding certificate verification is strongly advised. See: https://urllib3.readthedocs.io/en/latest/advanced-usage.html#ssl-warnings\n",
      "  InsecureRequestWarning)\n"
     ]
    },
    {
     "name": "stdout",
     "output_type": "stream",
     "text": [
      "CoRoT-03\n"
     ]
    },
    {
     "name": "stderr",
     "output_type": "stream",
     "text": [
      "C:\\ProgramData\\Anaconda3\\lib\\site-packages\\urllib3\\connectionpool.py:847: InsecureRequestWarning: Unverified HTTPS request is being made. Adding certificate verification is strongly advised. See: https://urllib3.readthedocs.io/en/latest/advanced-usage.html#ssl-warnings\n",
      "  InsecureRequestWarning)\n"
     ]
    },
    {
     "name": "stdout",
     "output_type": "stream",
     "text": [
      "CoRoT-11\n"
     ]
    },
    {
     "name": "stderr",
     "output_type": "stream",
     "text": [
      "C:\\ProgramData\\Anaconda3\\lib\\site-packages\\urllib3\\connectionpool.py:847: InsecureRequestWarning: Unverified HTTPS request is being made. Adding certificate verification is strongly advised. See: https://urllib3.readthedocs.io/en/latest/advanced-usage.html#ssl-warnings\n",
      "  InsecureRequestWarning)\n"
     ]
    },
    {
     "name": "stdout",
     "output_type": "stream",
     "text": [
      "CoRoT-18\n"
     ]
    },
    {
     "name": "stderr",
     "output_type": "stream",
     "text": [
      "C:\\ProgramData\\Anaconda3\\lib\\site-packages\\urllib3\\connectionpool.py:847: InsecureRequestWarning: Unverified HTTPS request is being made. Adding certificate verification is strongly advised. See: https://urllib3.readthedocs.io/en/latest/advanced-usage.html#ssl-warnings\n",
      "  InsecureRequestWarning)\n"
     ]
    },
    {
     "name": "stdout",
     "output_type": "stream",
     "text": [
      "CoRoT-19\n"
     ]
    },
    {
     "name": "stderr",
     "output_type": "stream",
     "text": [
      "C:\\ProgramData\\Anaconda3\\lib\\site-packages\\urllib3\\connectionpool.py:847: InsecureRequestWarning: Unverified HTTPS request is being made. Adding certificate verification is strongly advised. See: https://urllib3.readthedocs.io/en/latest/advanced-usage.html#ssl-warnings\n",
      "  InsecureRequestWarning)\n"
     ]
    },
    {
     "name": "stdout",
     "output_type": "stream",
     "text": [
      "DS_Tuc\n"
     ]
    },
    {
     "name": "stderr",
     "output_type": "stream",
     "text": [
      "C:\\ProgramData\\Anaconda3\\lib\\site-packages\\urllib3\\connectionpool.py:847: InsecureRequestWarning: Unverified HTTPS request is being made. Adding certificate verification is strongly advised. See: https://urllib3.readthedocs.io/en/latest/advanced-usage.html#ssl-warnings\n",
      "  InsecureRequestWarning)\n"
     ]
    },
    {
     "name": "stdout",
     "output_type": "stream",
     "text": [
      "EPIC_246851721\n"
     ]
    },
    {
     "name": "stderr",
     "output_type": "stream",
     "text": [
      "C:\\ProgramData\\Anaconda3\\lib\\site-packages\\urllib3\\connectionpool.py:847: InsecureRequestWarning: Unverified HTTPS request is being made. Adding certificate verification is strongly advised. See: https://urllib3.readthedocs.io/en/latest/advanced-usage.html#ssl-warnings\n",
      "  InsecureRequestWarning)\n"
     ]
    },
    {
     "name": "stdout",
     "output_type": "stream",
     "text": [
      "GJ_0436\n"
     ]
    },
    {
     "name": "stderr",
     "output_type": "stream",
     "text": [
      "C:\\ProgramData\\Anaconda3\\lib\\site-packages\\urllib3\\connectionpool.py:847: InsecureRequestWarning: Unverified HTTPS request is being made. Adding certificate verification is strongly advised. See: https://urllib3.readthedocs.io/en/latest/advanced-usage.html#ssl-warnings\n",
      "  InsecureRequestWarning)\n"
     ]
    },
    {
     "name": "stdout",
     "output_type": "stream",
     "text": [
      "HAT-P-01\n"
     ]
    },
    {
     "name": "stderr",
     "output_type": "stream",
     "text": [
      "C:\\ProgramData\\Anaconda3\\lib\\site-packages\\urllib3\\connectionpool.py:847: InsecureRequestWarning: Unverified HTTPS request is being made. Adding certificate verification is strongly advised. See: https://urllib3.readthedocs.io/en/latest/advanced-usage.html#ssl-warnings\n",
      "  InsecureRequestWarning)\n"
     ]
    },
    {
     "name": "stdout",
     "output_type": "stream",
     "text": [
      "HAT-P-02\n"
     ]
    },
    {
     "name": "stderr",
     "output_type": "stream",
     "text": [
      "C:\\ProgramData\\Anaconda3\\lib\\site-packages\\urllib3\\connectionpool.py:847: InsecureRequestWarning: Unverified HTTPS request is being made. Adding certificate verification is strongly advised. See: https://urllib3.readthedocs.io/en/latest/advanced-usage.html#ssl-warnings\n",
      "  InsecureRequestWarning)\n"
     ]
    },
    {
     "name": "stdout",
     "output_type": "stream",
     "text": [
      "HAT-P-03\n"
     ]
    },
    {
     "name": "stderr",
     "output_type": "stream",
     "text": [
      "C:\\ProgramData\\Anaconda3\\lib\\site-packages\\urllib3\\connectionpool.py:847: InsecureRequestWarning: Unverified HTTPS request is being made. Adding certificate verification is strongly advised. See: https://urllib3.readthedocs.io/en/latest/advanced-usage.html#ssl-warnings\n",
      "  InsecureRequestWarning)\n"
     ]
    },
    {
     "name": "stdout",
     "output_type": "stream",
     "text": [
      "HAT-P-04\n"
     ]
    },
    {
     "name": "stderr",
     "output_type": "stream",
     "text": [
      "C:\\ProgramData\\Anaconda3\\lib\\site-packages\\urllib3\\connectionpool.py:847: InsecureRequestWarning: Unverified HTTPS request is being made. Adding certificate verification is strongly advised. See: https://urllib3.readthedocs.io/en/latest/advanced-usage.html#ssl-warnings\n",
      "  InsecureRequestWarning)\n"
     ]
    },
    {
     "name": "stdout",
     "output_type": "stream",
     "text": [
      "HAT-P-06\n"
     ]
    },
    {
     "name": "stderr",
     "output_type": "stream",
     "text": [
      "C:\\ProgramData\\Anaconda3\\lib\\site-packages\\urllib3\\connectionpool.py:847: InsecureRequestWarning: Unverified HTTPS request is being made. Adding certificate verification is strongly advised. See: https://urllib3.readthedocs.io/en/latest/advanced-usage.html#ssl-warnings\n",
      "  InsecureRequestWarning)\n"
     ]
    },
    {
     "name": "stdout",
     "output_type": "stream",
     "text": [
      "HAT-P-07\n"
     ]
    },
    {
     "name": "stderr",
     "output_type": "stream",
     "text": [
      "C:\\ProgramData\\Anaconda3\\lib\\site-packages\\urllib3\\connectionpool.py:847: InsecureRequestWarning: Unverified HTTPS request is being made. Adding certificate verification is strongly advised. See: https://urllib3.readthedocs.io/en/latest/advanced-usage.html#ssl-warnings\n",
      "  InsecureRequestWarning)\n"
     ]
    },
    {
     "name": "stdout",
     "output_type": "stream",
     "text": [
      "HAT-P-08\n"
     ]
    },
    {
     "name": "stderr",
     "output_type": "stream",
     "text": [
      "C:\\ProgramData\\Anaconda3\\lib\\site-packages\\urllib3\\connectionpool.py:847: InsecureRequestWarning: Unverified HTTPS request is being made. Adding certificate verification is strongly advised. See: https://urllib3.readthedocs.io/en/latest/advanced-usage.html#ssl-warnings\n",
      "  InsecureRequestWarning)\n"
     ]
    },
    {
     "name": "stdout",
     "output_type": "stream",
     "text": [
      "HAT-P-09\n"
     ]
    },
    {
     "name": "stderr",
     "output_type": "stream",
     "text": [
      "C:\\ProgramData\\Anaconda3\\lib\\site-packages\\urllib3\\connectionpool.py:847: InsecureRequestWarning: Unverified HTTPS request is being made. Adding certificate verification is strongly advised. See: https://urllib3.readthedocs.io/en/latest/advanced-usage.html#ssl-warnings\n",
      "  InsecureRequestWarning)\n"
     ]
    },
    {
     "name": "stdout",
     "output_type": "stream",
     "text": [
      "HAT-P-11\n"
     ]
    },
    {
     "name": "stderr",
     "output_type": "stream",
     "text": [
      "C:\\ProgramData\\Anaconda3\\lib\\site-packages\\urllib3\\connectionpool.py:847: InsecureRequestWarning: Unverified HTTPS request is being made. Adding certificate verification is strongly advised. See: https://urllib3.readthedocs.io/en/latest/advanced-usage.html#ssl-warnings\n",
      "  InsecureRequestWarning)\n"
     ]
    },
    {
     "name": "stdout",
     "output_type": "stream",
     "text": [
      "HAT-P-12\n"
     ]
    },
    {
     "name": "stderr",
     "output_type": "stream",
     "text": [
      "C:\\ProgramData\\Anaconda3\\lib\\site-packages\\urllib3\\connectionpool.py:847: InsecureRequestWarning: Unverified HTTPS request is being made. Adding certificate verification is strongly advised. See: https://urllib3.readthedocs.io/en/latest/advanced-usage.html#ssl-warnings\n",
      "  InsecureRequestWarning)\n"
     ]
    },
    {
     "name": "stdout",
     "output_type": "stream",
     "text": [
      "HAT-P-13\n"
     ]
    },
    {
     "name": "stderr",
     "output_type": "stream",
     "text": [
      "C:\\ProgramData\\Anaconda3\\lib\\site-packages\\urllib3\\connectionpool.py:847: InsecureRequestWarning: Unverified HTTPS request is being made. Adding certificate verification is strongly advised. See: https://urllib3.readthedocs.io/en/latest/advanced-usage.html#ssl-warnings\n",
      "  InsecureRequestWarning)\n"
     ]
    },
    {
     "name": "stdout",
     "output_type": "stream",
     "text": [
      "HAT-P-14\n"
     ]
    },
    {
     "name": "stderr",
     "output_type": "stream",
     "text": [
      "C:\\ProgramData\\Anaconda3\\lib\\site-packages\\urllib3\\connectionpool.py:847: InsecureRequestWarning: Unverified HTTPS request is being made. Adding certificate verification is strongly advised. See: https://urllib3.readthedocs.io/en/latest/advanced-usage.html#ssl-warnings\n",
      "  InsecureRequestWarning)\n"
     ]
    },
    {
     "name": "stdout",
     "output_type": "stream",
     "text": [
      "HAT-P-16\n"
     ]
    },
    {
     "name": "stderr",
     "output_type": "stream",
     "text": [
      "C:\\ProgramData\\Anaconda3\\lib\\site-packages\\urllib3\\connectionpool.py:847: InsecureRequestWarning: Unverified HTTPS request is being made. Adding certificate verification is strongly advised. See: https://urllib3.readthedocs.io/en/latest/advanced-usage.html#ssl-warnings\n",
      "  InsecureRequestWarning)\n"
     ]
    },
    {
     "name": "stdout",
     "output_type": "stream",
     "text": [
      "HAT-P-17\n"
     ]
    },
    {
     "name": "stderr",
     "output_type": "stream",
     "text": [
      "C:\\ProgramData\\Anaconda3\\lib\\site-packages\\urllib3\\connectionpool.py:847: InsecureRequestWarning: Unverified HTTPS request is being made. Adding certificate verification is strongly advised. See: https://urllib3.readthedocs.io/en/latest/advanced-usage.html#ssl-warnings\n",
      "  InsecureRequestWarning)\n"
     ]
    },
    {
     "name": "stdout",
     "output_type": "stream",
     "text": [
      "HAT-P-18\n"
     ]
    },
    {
     "name": "stderr",
     "output_type": "stream",
     "text": [
      "C:\\ProgramData\\Anaconda3\\lib\\site-packages\\urllib3\\connectionpool.py:847: InsecureRequestWarning: Unverified HTTPS request is being made. Adding certificate verification is strongly advised. See: https://urllib3.readthedocs.io/en/latest/advanced-usage.html#ssl-warnings\n",
      "  InsecureRequestWarning)\n"
     ]
    },
    {
     "name": "stdout",
     "output_type": "stream",
     "text": [
      "HAT-P-20\n"
     ]
    },
    {
     "name": "stderr",
     "output_type": "stream",
     "text": [
      "C:\\ProgramData\\Anaconda3\\lib\\site-packages\\urllib3\\connectionpool.py:847: InsecureRequestWarning: Unverified HTTPS request is being made. Adding certificate verification is strongly advised. See: https://urllib3.readthedocs.io/en/latest/advanced-usage.html#ssl-warnings\n",
      "  InsecureRequestWarning)\n"
     ]
    },
    {
     "name": "stdout",
     "output_type": "stream",
     "text": [
      "HAT-P-22\n"
     ]
    },
    {
     "name": "stderr",
     "output_type": "stream",
     "text": [
      "C:\\ProgramData\\Anaconda3\\lib\\site-packages\\urllib3\\connectionpool.py:847: InsecureRequestWarning: Unverified HTTPS request is being made. Adding certificate verification is strongly advised. See: https://urllib3.readthedocs.io/en/latest/advanced-usage.html#ssl-warnings\n",
      "  InsecureRequestWarning)\n"
     ]
    },
    {
     "name": "stdout",
     "output_type": "stream",
     "text": [
      "HAT-P-23\n"
     ]
    },
    {
     "name": "stderr",
     "output_type": "stream",
     "text": [
      "C:\\ProgramData\\Anaconda3\\lib\\site-packages\\urllib3\\connectionpool.py:847: InsecureRequestWarning: Unverified HTTPS request is being made. Adding certificate verification is strongly advised. See: https://urllib3.readthedocs.io/en/latest/advanced-usage.html#ssl-warnings\n",
      "  InsecureRequestWarning)\n"
     ]
    },
    {
     "name": "stdout",
     "output_type": "stream",
     "text": [
      "HAT-P-24\n"
     ]
    },
    {
     "name": "stderr",
     "output_type": "stream",
     "text": [
      "C:\\ProgramData\\Anaconda3\\lib\\site-packages\\urllib3\\connectionpool.py:847: InsecureRequestWarning: Unverified HTTPS request is being made. Adding certificate verification is strongly advised. See: https://urllib3.readthedocs.io/en/latest/advanced-usage.html#ssl-warnings\n",
      "  InsecureRequestWarning)\n"
     ]
    },
    {
     "name": "stdout",
     "output_type": "stream",
     "text": [
      "HAT-P-27\n"
     ]
    },
    {
     "name": "stderr",
     "output_type": "stream",
     "text": [
      "C:\\ProgramData\\Anaconda3\\lib\\site-packages\\urllib3\\connectionpool.py:847: InsecureRequestWarning: Unverified HTTPS request is being made. Adding certificate verification is strongly advised. See: https://urllib3.readthedocs.io/en/latest/advanced-usage.html#ssl-warnings\n",
      "  InsecureRequestWarning)\n"
     ]
    },
    {
     "name": "stdout",
     "output_type": "stream",
     "text": [
      "HAT-P-30\n"
     ]
    },
    {
     "name": "stderr",
     "output_type": "stream",
     "text": [
      "C:\\ProgramData\\Anaconda3\\lib\\site-packages\\urllib3\\connectionpool.py:847: InsecureRequestWarning: Unverified HTTPS request is being made. Adding certificate verification is strongly advised. See: https://urllib3.readthedocs.io/en/latest/advanced-usage.html#ssl-warnings\n",
      "  InsecureRequestWarning)\n"
     ]
    },
    {
     "name": "stdout",
     "output_type": "stream",
     "text": [
      "HAT-P-32\n"
     ]
    },
    {
     "name": "stderr",
     "output_type": "stream",
     "text": [
      "C:\\ProgramData\\Anaconda3\\lib\\site-packages\\urllib3\\connectionpool.py:847: InsecureRequestWarning: Unverified HTTPS request is being made. Adding certificate verification is strongly advised. See: https://urllib3.readthedocs.io/en/latest/advanced-usage.html#ssl-warnings\n",
      "  InsecureRequestWarning)\n"
     ]
    },
    {
     "name": "stdout",
     "output_type": "stream",
     "text": [
      "HAT-P-34\n"
     ]
    },
    {
     "name": "stderr",
     "output_type": "stream",
     "text": [
      "C:\\ProgramData\\Anaconda3\\lib\\site-packages\\urllib3\\connectionpool.py:847: InsecureRequestWarning: Unverified HTTPS request is being made. Adding certificate verification is strongly advised. See: https://urllib3.readthedocs.io/en/latest/advanced-usage.html#ssl-warnings\n",
      "  InsecureRequestWarning)\n"
     ]
    },
    {
     "name": "stdout",
     "output_type": "stream",
     "text": [
      "HAT-P-36\n"
     ]
    },
    {
     "name": "stderr",
     "output_type": "stream",
     "text": [
      "C:\\ProgramData\\Anaconda3\\lib\\site-packages\\urllib3\\connectionpool.py:847: InsecureRequestWarning: Unverified HTTPS request is being made. Adding certificate verification is strongly advised. See: https://urllib3.readthedocs.io/en/latest/advanced-usage.html#ssl-warnings\n",
      "  InsecureRequestWarning)\n"
     ]
    },
    {
     "name": "stdout",
     "output_type": "stream",
     "text": [
      "HAT-P-41\n"
     ]
    },
    {
     "name": "stderr",
     "output_type": "stream",
     "text": [
      "C:\\ProgramData\\Anaconda3\\lib\\site-packages\\urllib3\\connectionpool.py:847: InsecureRequestWarning: Unverified HTTPS request is being made. Adding certificate verification is strongly advised. See: https://urllib3.readthedocs.io/en/latest/advanced-usage.html#ssl-warnings\n",
      "  InsecureRequestWarning)\n"
     ]
    },
    {
     "name": "stdout",
     "output_type": "stream",
     "text": [
      "HAT-P-56\n"
     ]
    },
    {
     "name": "stderr",
     "output_type": "stream",
     "text": [
      "C:\\ProgramData\\Anaconda3\\lib\\site-packages\\urllib3\\connectionpool.py:847: InsecureRequestWarning: Unverified HTTPS request is being made. Adding certificate verification is strongly advised. See: https://urllib3.readthedocs.io/en/latest/advanced-usage.html#ssl-warnings\n",
      "  InsecureRequestWarning)\n"
     ]
    },
    {
     "name": "stdout",
     "output_type": "stream",
     "text": [
      "HAT-P-69\n"
     ]
    },
    {
     "name": "stderr",
     "output_type": "stream",
     "text": [
      "C:\\ProgramData\\Anaconda3\\lib\\site-packages\\urllib3\\connectionpool.py:847: InsecureRequestWarning: Unverified HTTPS request is being made. Adding certificate verification is strongly advised. See: https://urllib3.readthedocs.io/en/latest/advanced-usage.html#ssl-warnings\n",
      "  InsecureRequestWarning)\n"
     ]
    },
    {
     "name": "stdout",
     "output_type": "stream",
     "text": [
      "HAT-P-70\n"
     ]
    },
    {
     "name": "stderr",
     "output_type": "stream",
     "text": [
      "C:\\ProgramData\\Anaconda3\\lib\\site-packages\\urllib3\\connectionpool.py:847: InsecureRequestWarning: Unverified HTTPS request is being made. Adding certificate verification is strongly advised. See: https://urllib3.readthedocs.io/en/latest/advanced-usage.html#ssl-warnings\n",
      "  InsecureRequestWarning)\n"
     ]
    },
    {
     "name": "stdout",
     "output_type": "stream",
     "text": [
      "HATS-03\n"
     ]
    },
    {
     "name": "stderr",
     "output_type": "stream",
     "text": [
      "C:\\ProgramData\\Anaconda3\\lib\\site-packages\\urllib3\\connectionpool.py:847: InsecureRequestWarning: Unverified HTTPS request is being made. Adding certificate verification is strongly advised. See: https://urllib3.readthedocs.io/en/latest/advanced-usage.html#ssl-warnings\n",
      "  InsecureRequestWarning)\n"
     ]
    },
    {
     "name": "stdout",
     "output_type": "stream",
     "text": [
      "HATS-14\n"
     ]
    },
    {
     "name": "stderr",
     "output_type": "stream",
     "text": [
      "C:\\ProgramData\\Anaconda3\\lib\\site-packages\\urllib3\\connectionpool.py:847: InsecureRequestWarning: Unverified HTTPS request is being made. Adding certificate verification is strongly advised. See: https://urllib3.readthedocs.io/en/latest/advanced-usage.html#ssl-warnings\n",
      "  InsecureRequestWarning)\n"
     ]
    },
    {
     "name": "stdout",
     "output_type": "stream",
     "text": [
      "HATS-70\n"
     ]
    },
    {
     "name": "stderr",
     "output_type": "stream",
     "text": [
      "C:\\ProgramData\\Anaconda3\\lib\\site-packages\\urllib3\\connectionpool.py:847: InsecureRequestWarning: Unverified HTTPS request is being made. Adding certificate verification is strongly advised. See: https://urllib3.readthedocs.io/en/latest/advanced-usage.html#ssl-warnings\n",
      "  InsecureRequestWarning)\n"
     ]
    },
    {
     "name": "stdout",
     "output_type": "stream",
     "text": [
      "HD_003167c\n"
     ]
    },
    {
     "name": "stderr",
     "output_type": "stream",
     "text": [
      "C:\\ProgramData\\Anaconda3\\lib\\site-packages\\urllib3\\connectionpool.py:847: InsecureRequestWarning: Unverified HTTPS request is being made. Adding certificate verification is strongly advised. See: https://urllib3.readthedocs.io/en/latest/advanced-usage.html#ssl-warnings\n",
      "  InsecureRequestWarning)\n"
     ]
    },
    {
     "name": "stdout",
     "output_type": "stream",
     "text": [
      "HD_017156\n"
     ]
    },
    {
     "name": "stderr",
     "output_type": "stream",
     "text": [
      "C:\\ProgramData\\Anaconda3\\lib\\site-packages\\urllib3\\connectionpool.py:847: InsecureRequestWarning: Unverified HTTPS request is being made. Adding certificate verification is strongly advised. See: https://urllib3.readthedocs.io/en/latest/advanced-usage.html#ssl-warnings\n",
      "  InsecureRequestWarning)\n"
     ]
    },
    {
     "name": "stdout",
     "output_type": "stream",
     "text": [
      "HD_080606\n"
     ]
    },
    {
     "name": "stderr",
     "output_type": "stream",
     "text": [
      "C:\\ProgramData\\Anaconda3\\lib\\site-packages\\urllib3\\connectionpool.py:847: InsecureRequestWarning: Unverified HTTPS request is being made. Adding certificate verification is strongly advised. See: https://urllib3.readthedocs.io/en/latest/advanced-usage.html#ssl-warnings\n",
      "  InsecureRequestWarning)\n"
     ]
    },
    {
     "name": "stdout",
     "output_type": "stream",
     "text": [
      "HD_106315c\n"
     ]
    },
    {
     "name": "stderr",
     "output_type": "stream",
     "text": [
      "C:\\ProgramData\\Anaconda3\\lib\\site-packages\\urllib3\\connectionpool.py:847: InsecureRequestWarning: Unverified HTTPS request is being made. Adding certificate verification is strongly advised. See: https://urllib3.readthedocs.io/en/latest/advanced-usage.html#ssl-warnings\n",
      "  InsecureRequestWarning)\n"
     ]
    },
    {
     "name": "stdout",
     "output_type": "stream",
     "text": [
      "HD_149026\n"
     ]
    },
    {
     "name": "stderr",
     "output_type": "stream",
     "text": [
      "C:\\ProgramData\\Anaconda3\\lib\\site-packages\\urllib3\\connectionpool.py:847: InsecureRequestWarning: Unverified HTTPS request is being made. Adding certificate verification is strongly advised. See: https://urllib3.readthedocs.io/en/latest/advanced-usage.html#ssl-warnings\n",
      "  InsecureRequestWarning)\n"
     ]
    },
    {
     "name": "stdout",
     "output_type": "stream",
     "text": [
      "HD_189733\n"
     ]
    },
    {
     "name": "stderr",
     "output_type": "stream",
     "text": [
      "C:\\ProgramData\\Anaconda3\\lib\\site-packages\\urllib3\\connectionpool.py:847: InsecureRequestWarning: Unverified HTTPS request is being made. Adding certificate verification is strongly advised. See: https://urllib3.readthedocs.io/en/latest/advanced-usage.html#ssl-warnings\n",
      "  InsecureRequestWarning)\n"
     ]
    },
    {
     "name": "stdout",
     "output_type": "stream",
     "text": [
      "HD_209458\n"
     ]
    },
    {
     "name": "stderr",
     "output_type": "stream",
     "text": [
      "C:\\ProgramData\\Anaconda3\\lib\\site-packages\\urllib3\\connectionpool.py:847: InsecureRequestWarning: Unverified HTTPS request is being made. Adding certificate verification is strongly advised. See: https://urllib3.readthedocs.io/en/latest/advanced-usage.html#ssl-warnings\n",
      "  InsecureRequestWarning)\n"
     ]
    },
    {
     "name": "stdout",
     "output_type": "stream",
     "text": [
      "K2-029\n"
     ]
    },
    {
     "name": "stderr",
     "output_type": "stream",
     "text": [
      "C:\\ProgramData\\Anaconda3\\lib\\site-packages\\urllib3\\connectionpool.py:847: InsecureRequestWarning: Unverified HTTPS request is being made. Adding certificate verification is strongly advised. See: https://urllib3.readthedocs.io/en/latest/advanced-usage.html#ssl-warnings\n",
      "  InsecureRequestWarning)\n"
     ]
    },
    {
     "name": "stdout",
     "output_type": "stream",
     "text": [
      "K2-034\n"
     ]
    },
    {
     "name": "stderr",
     "output_type": "stream",
     "text": [
      "C:\\ProgramData\\Anaconda3\\lib\\site-packages\\urllib3\\connectionpool.py:847: InsecureRequestWarning: Unverified HTTPS request is being made. Adding certificate verification is strongly advised. See: https://urllib3.readthedocs.io/en/latest/advanced-usage.html#ssl-warnings\n",
      "  InsecureRequestWarning)\n"
     ]
    },
    {
     "name": "stdout",
     "output_type": "stream",
     "text": [
      "KELT-01\n"
     ]
    },
    {
     "name": "stderr",
     "output_type": "stream",
     "text": [
      "C:\\ProgramData\\Anaconda3\\lib\\site-packages\\urllib3\\connectionpool.py:847: InsecureRequestWarning: Unverified HTTPS request is being made. Adding certificate verification is strongly advised. See: https://urllib3.readthedocs.io/en/latest/advanced-usage.html#ssl-warnings\n",
      "  InsecureRequestWarning)\n"
     ]
    },
    {
     "name": "stdout",
     "output_type": "stream",
     "text": [
      "KELT-06\n"
     ]
    },
    {
     "name": "stderr",
     "output_type": "stream",
     "text": [
      "C:\\ProgramData\\Anaconda3\\lib\\site-packages\\urllib3\\connectionpool.py:847: InsecureRequestWarning: Unverified HTTPS request is being made. Adding certificate verification is strongly advised. See: https://urllib3.readthedocs.io/en/latest/advanced-usage.html#ssl-warnings\n",
      "  InsecureRequestWarning)\n"
     ]
    },
    {
     "name": "stdout",
     "output_type": "stream",
     "text": [
      "KELT-07\n"
     ]
    },
    {
     "name": "stderr",
     "output_type": "stream",
     "text": [
      "C:\\ProgramData\\Anaconda3\\lib\\site-packages\\urllib3\\connectionpool.py:847: InsecureRequestWarning: Unverified HTTPS request is being made. Adding certificate verification is strongly advised. See: https://urllib3.readthedocs.io/en/latest/advanced-usage.html#ssl-warnings\n",
      "  InsecureRequestWarning)\n"
     ]
    },
    {
     "name": "stdout",
     "output_type": "stream",
     "text": [
      "KELT-09\n"
     ]
    },
    {
     "name": "stderr",
     "output_type": "stream",
     "text": [
      "C:\\ProgramData\\Anaconda3\\lib\\site-packages\\urllib3\\connectionpool.py:847: InsecureRequestWarning: Unverified HTTPS request is being made. Adding certificate verification is strongly advised. See: https://urllib3.readthedocs.io/en/latest/advanced-usage.html#ssl-warnings\n",
      "  InsecureRequestWarning)\n"
     ]
    },
    {
     "name": "stdout",
     "output_type": "stream",
     "text": [
      "KELT-17\n"
     ]
    },
    {
     "name": "stderr",
     "output_type": "stream",
     "text": [
      "C:\\ProgramData\\Anaconda3\\lib\\site-packages\\urllib3\\connectionpool.py:847: InsecureRequestWarning: Unverified HTTPS request is being made. Adding certificate verification is strongly advised. See: https://urllib3.readthedocs.io/en/latest/advanced-usage.html#ssl-warnings\n",
      "  InsecureRequestWarning)\n"
     ]
    },
    {
     "name": "stdout",
     "output_type": "stream",
     "text": [
      "KELT-19\n"
     ]
    },
    {
     "name": "stderr",
     "output_type": "stream",
     "text": [
      "C:\\ProgramData\\Anaconda3\\lib\\site-packages\\urllib3\\connectionpool.py:847: InsecureRequestWarning: Unverified HTTPS request is being made. Adding certificate verification is strongly advised. See: https://urllib3.readthedocs.io/en/latest/advanced-usage.html#ssl-warnings\n",
      "  InsecureRequestWarning)\n"
     ]
    },
    {
     "name": "stdout",
     "output_type": "stream",
     "text": [
      "KELT-20\n"
     ]
    },
    {
     "name": "stderr",
     "output_type": "stream",
     "text": [
      "C:\\ProgramData\\Anaconda3\\lib\\site-packages\\urllib3\\connectionpool.py:847: InsecureRequestWarning: Unverified HTTPS request is being made. Adding certificate verification is strongly advised. See: https://urllib3.readthedocs.io/en/latest/advanced-usage.html#ssl-warnings\n",
      "  InsecureRequestWarning)\n"
     ]
    },
    {
     "name": "stdout",
     "output_type": "stream",
     "text": [
      "KELT-21\n"
     ]
    },
    {
     "name": "stderr",
     "output_type": "stream",
     "text": [
      "C:\\ProgramData\\Anaconda3\\lib\\site-packages\\urllib3\\connectionpool.py:847: InsecureRequestWarning: Unverified HTTPS request is being made. Adding certificate verification is strongly advised. See: https://urllib3.readthedocs.io/en/latest/advanced-usage.html#ssl-warnings\n",
      "  InsecureRequestWarning)\n"
     ]
    },
    {
     "name": "stdout",
     "output_type": "stream",
     "text": [
      "KELT-24\n"
     ]
    },
    {
     "name": "stderr",
     "output_type": "stream",
     "text": [
      "C:\\ProgramData\\Anaconda3\\lib\\site-packages\\urllib3\\connectionpool.py:847: InsecureRequestWarning: Unverified HTTPS request is being made. Adding certificate verification is strongly advised. See: https://urllib3.readthedocs.io/en/latest/advanced-usage.html#ssl-warnings\n",
      "  InsecureRequestWarning)\n"
     ]
    },
    {
     "name": "stdout",
     "output_type": "stream",
     "text": [
      "Kepler-008\n"
     ]
    },
    {
     "name": "stderr",
     "output_type": "stream",
     "text": [
      "C:\\ProgramData\\Anaconda3\\lib\\site-packages\\urllib3\\connectionpool.py:847: InsecureRequestWarning: Unverified HTTPS request is being made. Adding certificate verification is strongly advised. See: https://urllib3.readthedocs.io/en/latest/advanced-usage.html#ssl-warnings\n",
      "  InsecureRequestWarning)\n"
     ]
    },
    {
     "name": "stdout",
     "output_type": "stream",
     "text": [
      "Kepler-009b\n"
     ]
    },
    {
     "name": "stderr",
     "output_type": "stream",
     "text": [
      "C:\\ProgramData\\Anaconda3\\lib\\site-packages\\urllib3\\connectionpool.py:847: InsecureRequestWarning: Unverified HTTPS request is being made. Adding certificate verification is strongly advised. See: https://urllib3.readthedocs.io/en/latest/advanced-usage.html#ssl-warnings\n",
      "  InsecureRequestWarning)\n"
     ]
    },
    {
     "name": "stdout",
     "output_type": "stream",
     "text": [
      "Kepler-013\n"
     ]
    },
    {
     "name": "stderr",
     "output_type": "stream",
     "text": [
      "C:\\ProgramData\\Anaconda3\\lib\\site-packages\\urllib3\\connectionpool.py:847: InsecureRequestWarning: Unverified HTTPS request is being made. Adding certificate verification is strongly advised. See: https://urllib3.readthedocs.io/en/latest/advanced-usage.html#ssl-warnings\n",
      "  InsecureRequestWarning)\n"
     ]
    },
    {
     "name": "stdout",
     "output_type": "stream",
     "text": [
      "Kepler-017\n"
     ]
    },
    {
     "name": "stderr",
     "output_type": "stream",
     "text": [
      "C:\\ProgramData\\Anaconda3\\lib\\site-packages\\urllib3\\connectionpool.py:847: InsecureRequestWarning: Unverified HTTPS request is being made. Adding certificate verification is strongly advised. See: https://urllib3.readthedocs.io/en/latest/advanced-usage.html#ssl-warnings\n",
      "  InsecureRequestWarning)\n"
     ]
    },
    {
     "name": "stdout",
     "output_type": "stream",
     "text": [
      "Kepler-025c\n"
     ]
    },
    {
     "name": "stderr",
     "output_type": "stream",
     "text": [
      "C:\\ProgramData\\Anaconda3\\lib\\site-packages\\urllib3\\connectionpool.py:847: InsecureRequestWarning: Unverified HTTPS request is being made. Adding certificate verification is strongly advised. See: https://urllib3.readthedocs.io/en/latest/advanced-usage.html#ssl-warnings\n",
      "  InsecureRequestWarning)\n"
     ]
    },
    {
     "name": "stdout",
     "output_type": "stream",
     "text": [
      "Kepler-030b\n"
     ]
    },
    {
     "name": "stderr",
     "output_type": "stream",
     "text": [
      "C:\\ProgramData\\Anaconda3\\lib\\site-packages\\urllib3\\connectionpool.py:847: InsecureRequestWarning: Unverified HTTPS request is being made. Adding certificate verification is strongly advised. See: https://urllib3.readthedocs.io/en/latest/advanced-usage.html#ssl-warnings\n",
      "  InsecureRequestWarning)\n"
     ]
    },
    {
     "name": "stdout",
     "output_type": "stream",
     "text": [
      "Kepler-063\n"
     ]
    },
    {
     "name": "stderr",
     "output_type": "stream",
     "text": [
      "C:\\ProgramData\\Anaconda3\\lib\\site-packages\\urllib3\\connectionpool.py:847: InsecureRequestWarning: Unverified HTTPS request is being made. Adding certificate verification is strongly advised. See: https://urllib3.readthedocs.io/en/latest/advanced-usage.html#ssl-warnings\n",
      "  InsecureRequestWarning)\n"
     ]
    },
    {
     "name": "stdout",
     "output_type": "stream",
     "text": [
      "Kepler-089d\n"
     ]
    },
    {
     "name": "stderr",
     "output_type": "stream",
     "text": [
      "C:\\ProgramData\\Anaconda3\\lib\\site-packages\\urllib3\\connectionpool.py:847: InsecureRequestWarning: Unverified HTTPS request is being made. Adding certificate verification is strongly advised. See: https://urllib3.readthedocs.io/en/latest/advanced-usage.html#ssl-warnings\n",
      "  InsecureRequestWarning)\n"
     ]
    },
    {
     "name": "stdout",
     "output_type": "stream",
     "text": [
      "Kepler-420\n"
     ]
    },
    {
     "name": "stderr",
     "output_type": "stream",
     "text": [
      "C:\\ProgramData\\Anaconda3\\lib\\site-packages\\urllib3\\connectionpool.py:847: InsecureRequestWarning: Unverified HTTPS request is being made. Adding certificate verification is strongly advised. See: https://urllib3.readthedocs.io/en/latest/advanced-usage.html#ssl-warnings\n",
      "  InsecureRequestWarning)\n"
     ]
    },
    {
     "name": "stdout",
     "output_type": "stream",
     "text": [
      "Kepler-448\n"
     ]
    },
    {
     "name": "stderr",
     "output_type": "stream",
     "text": [
      "C:\\ProgramData\\Anaconda3\\lib\\site-packages\\urllib3\\connectionpool.py:847: InsecureRequestWarning: Unverified HTTPS request is being made. Adding certificate verification is strongly advised. See: https://urllib3.readthedocs.io/en/latest/advanced-usage.html#ssl-warnings\n",
      "  InsecureRequestWarning)\n"
     ]
    },
    {
     "name": "stdout",
     "output_type": "stream",
     "text": [
      "MASCARA-1\n"
     ]
    },
    {
     "name": "stderr",
     "output_type": "stream",
     "text": [
      "C:\\ProgramData\\Anaconda3\\lib\\site-packages\\urllib3\\connectionpool.py:847: InsecureRequestWarning: Unverified HTTPS request is being made. Adding certificate verification is strongly advised. See: https://urllib3.readthedocs.io/en/latest/advanced-usage.html#ssl-warnings\n",
      "  InsecureRequestWarning)\n"
     ]
    },
    {
     "name": "stdout",
     "output_type": "stream",
     "text": [
      "MASCARA-4\n"
     ]
    },
    {
     "name": "stderr",
     "output_type": "stream",
     "text": [
      "C:\\ProgramData\\Anaconda3\\lib\\site-packages\\urllib3\\connectionpool.py:847: InsecureRequestWarning: Unverified HTTPS request is being made. Adding certificate verification is strongly advised. See: https://urllib3.readthedocs.io/en/latest/advanced-usage.html#ssl-warnings\n",
      "  InsecureRequestWarning)\n"
     ]
    },
    {
     "name": "stdout",
     "output_type": "stream",
     "text": [
      "NGTS-02\n"
     ]
    },
    {
     "name": "stderr",
     "output_type": "stream",
     "text": [
      "C:\\ProgramData\\Anaconda3\\lib\\site-packages\\urllib3\\connectionpool.py:847: InsecureRequestWarning: Unverified HTTPS request is being made. Adding certificate verification is strongly advised. See: https://urllib3.readthedocs.io/en/latest/advanced-usage.html#ssl-warnings\n",
      "  InsecureRequestWarning)\n"
     ]
    },
    {
     "name": "stdout",
     "output_type": "stream",
     "text": [
      "Qatar-1\n"
     ]
    },
    {
     "name": "stderr",
     "output_type": "stream",
     "text": [
      "C:\\ProgramData\\Anaconda3\\lib\\site-packages\\urllib3\\connectionpool.py:847: InsecureRequestWarning: Unverified HTTPS request is being made. Adding certificate verification is strongly advised. See: https://urllib3.readthedocs.io/en/latest/advanced-usage.html#ssl-warnings\n",
      "  InsecureRequestWarning)\n"
     ]
    },
    {
     "name": "stdout",
     "output_type": "stream",
     "text": [
      "Qatar-2\n"
     ]
    },
    {
     "name": "stderr",
     "output_type": "stream",
     "text": [
      "C:\\ProgramData\\Anaconda3\\lib\\site-packages\\urllib3\\connectionpool.py:847: InsecureRequestWarning: Unverified HTTPS request is being made. Adding certificate verification is strongly advised. See: https://urllib3.readthedocs.io/en/latest/advanced-usage.html#ssl-warnings\n",
      "  InsecureRequestWarning)\n"
     ]
    },
    {
     "name": "stdout",
     "output_type": "stream",
     "text": [
      "TrES-1\n"
     ]
    },
    {
     "name": "stderr",
     "output_type": "stream",
     "text": [
      "C:\\ProgramData\\Anaconda3\\lib\\site-packages\\urllib3\\connectionpool.py:847: InsecureRequestWarning: Unverified HTTPS request is being made. Adding certificate verification is strongly advised. See: https://urllib3.readthedocs.io/en/latest/advanced-usage.html#ssl-warnings\n",
      "  InsecureRequestWarning)\n"
     ]
    },
    {
     "name": "stdout",
     "output_type": "stream",
     "text": [
      "TrES-2\n"
     ]
    },
    {
     "name": "stderr",
     "output_type": "stream",
     "text": [
      "C:\\ProgramData\\Anaconda3\\lib\\site-packages\\urllib3\\connectionpool.py:847: InsecureRequestWarning: Unverified HTTPS request is being made. Adding certificate verification is strongly advised. See: https://urllib3.readthedocs.io/en/latest/advanced-usage.html#ssl-warnings\n",
      "  InsecureRequestWarning)\n"
     ]
    },
    {
     "name": "stdout",
     "output_type": "stream",
     "text": [
      "TrES-4\n"
     ]
    },
    {
     "name": "stderr",
     "output_type": "stream",
     "text": [
      "C:\\ProgramData\\Anaconda3\\lib\\site-packages\\urllib3\\connectionpool.py:847: InsecureRequestWarning: Unverified HTTPS request is being made. Adding certificate verification is strongly advised. See: https://urllib3.readthedocs.io/en/latest/advanced-usage.html#ssl-warnings\n",
      "  InsecureRequestWarning)\n"
     ]
    },
    {
     "name": "stdout",
     "output_type": "stream",
     "text": [
      "WASP-001\n"
     ]
    },
    {
     "name": "stderr",
     "output_type": "stream",
     "text": [
      "C:\\ProgramData\\Anaconda3\\lib\\site-packages\\urllib3\\connectionpool.py:847: InsecureRequestWarning: Unverified HTTPS request is being made. Adding certificate verification is strongly advised. See: https://urllib3.readthedocs.io/en/latest/advanced-usage.html#ssl-warnings\n",
      "  InsecureRequestWarning)\n"
     ]
    },
    {
     "name": "stdout",
     "output_type": "stream",
     "text": [
      "WASP-002\n"
     ]
    },
    {
     "name": "stderr",
     "output_type": "stream",
     "text": [
      "C:\\ProgramData\\Anaconda3\\lib\\site-packages\\urllib3\\connectionpool.py:847: InsecureRequestWarning: Unverified HTTPS request is being made. Adding certificate verification is strongly advised. See: https://urllib3.readthedocs.io/en/latest/advanced-usage.html#ssl-warnings\n",
      "  InsecureRequestWarning)\n"
     ]
    },
    {
     "name": "stdout",
     "output_type": "stream",
     "text": [
      "WASP-003\n"
     ]
    },
    {
     "name": "stderr",
     "output_type": "stream",
     "text": [
      "C:\\ProgramData\\Anaconda3\\lib\\site-packages\\urllib3\\connectionpool.py:847: InsecureRequestWarning: Unverified HTTPS request is being made. Adding certificate verification is strongly advised. See: https://urllib3.readthedocs.io/en/latest/advanced-usage.html#ssl-warnings\n",
      "  InsecureRequestWarning)\n"
     ]
    },
    {
     "name": "stdout",
     "output_type": "stream",
     "text": [
      "WASP-004\n"
     ]
    },
    {
     "name": "stderr",
     "output_type": "stream",
     "text": [
      "C:\\ProgramData\\Anaconda3\\lib\\site-packages\\urllib3\\connectionpool.py:847: InsecureRequestWarning: Unverified HTTPS request is being made. Adding certificate verification is strongly advised. See: https://urllib3.readthedocs.io/en/latest/advanced-usage.html#ssl-warnings\n",
      "  InsecureRequestWarning)\n"
     ]
    },
    {
     "name": "stdout",
     "output_type": "stream",
     "text": [
      "WASP-005\n"
     ]
    },
    {
     "name": "stderr",
     "output_type": "stream",
     "text": [
      "C:\\ProgramData\\Anaconda3\\lib\\site-packages\\urllib3\\connectionpool.py:847: InsecureRequestWarning: Unverified HTTPS request is being made. Adding certificate verification is strongly advised. See: https://urllib3.readthedocs.io/en/latest/advanced-usage.html#ssl-warnings\n",
      "  InsecureRequestWarning)\n"
     ]
    },
    {
     "name": "stdout",
     "output_type": "stream",
     "text": [
      "WASP-006\n"
     ]
    },
    {
     "name": "stderr",
     "output_type": "stream",
     "text": [
      "C:\\ProgramData\\Anaconda3\\lib\\site-packages\\urllib3\\connectionpool.py:847: InsecureRequestWarning: Unverified HTTPS request is being made. Adding certificate verification is strongly advised. See: https://urllib3.readthedocs.io/en/latest/advanced-usage.html#ssl-warnings\n",
      "  InsecureRequestWarning)\n"
     ]
    },
    {
     "name": "stdout",
     "output_type": "stream",
     "text": [
      "WASP-007\n"
     ]
    },
    {
     "name": "stderr",
     "output_type": "stream",
     "text": [
      "C:\\ProgramData\\Anaconda3\\lib\\site-packages\\urllib3\\connectionpool.py:847: InsecureRequestWarning: Unverified HTTPS request is being made. Adding certificate verification is strongly advised. See: https://urllib3.readthedocs.io/en/latest/advanced-usage.html#ssl-warnings\n",
      "  InsecureRequestWarning)\n"
     ]
    },
    {
     "name": "stdout",
     "output_type": "stream",
     "text": [
      "WASP-008\n"
     ]
    },
    {
     "name": "stderr",
     "output_type": "stream",
     "text": [
      "C:\\ProgramData\\Anaconda3\\lib\\site-packages\\urllib3\\connectionpool.py:847: InsecureRequestWarning: Unverified HTTPS request is being made. Adding certificate verification is strongly advised. See: https://urllib3.readthedocs.io/en/latest/advanced-usage.html#ssl-warnings\n",
      "  InsecureRequestWarning)\n"
     ]
    },
    {
     "name": "stdout",
     "output_type": "stream",
     "text": [
      "WASP-011\n"
     ]
    },
    {
     "name": "stderr",
     "output_type": "stream",
     "text": [
      "C:\\ProgramData\\Anaconda3\\lib\\site-packages\\urllib3\\connectionpool.py:847: InsecureRequestWarning: Unverified HTTPS request is being made. Adding certificate verification is strongly advised. See: https://urllib3.readthedocs.io/en/latest/advanced-usage.html#ssl-warnings\n",
      "  InsecureRequestWarning)\n"
     ]
    },
    {
     "name": "stdout",
     "output_type": "stream",
     "text": [
      "WASP-012\n"
     ]
    },
    {
     "name": "stderr",
     "output_type": "stream",
     "text": [
      "C:\\ProgramData\\Anaconda3\\lib\\site-packages\\urllib3\\connectionpool.py:847: InsecureRequestWarning: Unverified HTTPS request is being made. Adding certificate verification is strongly advised. See: https://urllib3.readthedocs.io/en/latest/advanced-usage.html#ssl-warnings\n",
      "  InsecureRequestWarning)\n"
     ]
    },
    {
     "name": "stdout",
     "output_type": "stream",
     "text": [
      "WASP-013\n"
     ]
    },
    {
     "name": "stderr",
     "output_type": "stream",
     "text": [
      "C:\\ProgramData\\Anaconda3\\lib\\site-packages\\urllib3\\connectionpool.py:847: InsecureRequestWarning: Unverified HTTPS request is being made. Adding certificate verification is strongly advised. See: https://urllib3.readthedocs.io/en/latest/advanced-usage.html#ssl-warnings\n",
      "  InsecureRequestWarning)\n"
     ]
    },
    {
     "name": "stdout",
     "output_type": "stream",
     "text": [
      "WASP-014\n"
     ]
    },
    {
     "name": "stderr",
     "output_type": "stream",
     "text": [
      "C:\\ProgramData\\Anaconda3\\lib\\site-packages\\urllib3\\connectionpool.py:847: InsecureRequestWarning: Unverified HTTPS request is being made. Adding certificate verification is strongly advised. See: https://urllib3.readthedocs.io/en/latest/advanced-usage.html#ssl-warnings\n",
      "  InsecureRequestWarning)\n"
     ]
    },
    {
     "name": "stdout",
     "output_type": "stream",
     "text": [
      "WASP-015\n"
     ]
    },
    {
     "name": "stderr",
     "output_type": "stream",
     "text": [
      "C:\\ProgramData\\Anaconda3\\lib\\site-packages\\urllib3\\connectionpool.py:847: InsecureRequestWarning: Unverified HTTPS request is being made. Adding certificate verification is strongly advised. See: https://urllib3.readthedocs.io/en/latest/advanced-usage.html#ssl-warnings\n",
      "  InsecureRequestWarning)\n"
     ]
    },
    {
     "name": "stdout",
     "output_type": "stream",
     "text": [
      "WASP-016\n"
     ]
    },
    {
     "name": "stderr",
     "output_type": "stream",
     "text": [
      "C:\\ProgramData\\Anaconda3\\lib\\site-packages\\urllib3\\connectionpool.py:847: InsecureRequestWarning: Unverified HTTPS request is being made. Adding certificate verification is strongly advised. See: https://urllib3.readthedocs.io/en/latest/advanced-usage.html#ssl-warnings\n",
      "  InsecureRequestWarning)\n"
     ]
    },
    {
     "name": "stdout",
     "output_type": "stream",
     "text": [
      "WASP-017\n"
     ]
    },
    {
     "name": "stderr",
     "output_type": "stream",
     "text": [
      "C:\\ProgramData\\Anaconda3\\lib\\site-packages\\urllib3\\connectionpool.py:847: InsecureRequestWarning: Unverified HTTPS request is being made. Adding certificate verification is strongly advised. See: https://urllib3.readthedocs.io/en/latest/advanced-usage.html#ssl-warnings\n",
      "  InsecureRequestWarning)\n"
     ]
    },
    {
     "name": "stdout",
     "output_type": "stream",
     "text": [
      "WASP-018\n"
     ]
    },
    {
     "name": "stderr",
     "output_type": "stream",
     "text": [
      "C:\\ProgramData\\Anaconda3\\lib\\site-packages\\urllib3\\connectionpool.py:847: InsecureRequestWarning: Unverified HTTPS request is being made. Adding certificate verification is strongly advised. See: https://urllib3.readthedocs.io/en/latest/advanced-usage.html#ssl-warnings\n",
      "  InsecureRequestWarning)\n"
     ]
    },
    {
     "name": "stdout",
     "output_type": "stream",
     "text": [
      "WASP-019\n"
     ]
    },
    {
     "name": "stderr",
     "output_type": "stream",
     "text": [
      "C:\\ProgramData\\Anaconda3\\lib\\site-packages\\urllib3\\connectionpool.py:847: InsecureRequestWarning: Unverified HTTPS request is being made. Adding certificate verification is strongly advised. See: https://urllib3.readthedocs.io/en/latest/advanced-usage.html#ssl-warnings\n",
      "  InsecureRequestWarning)\n"
     ]
    },
    {
     "name": "stdout",
     "output_type": "stream",
     "text": [
      "WASP-020\n"
     ]
    },
    {
     "name": "stderr",
     "output_type": "stream",
     "text": [
      "C:\\ProgramData\\Anaconda3\\lib\\site-packages\\urllib3\\connectionpool.py:847: InsecureRequestWarning: Unverified HTTPS request is being made. Adding certificate verification is strongly advised. See: https://urllib3.readthedocs.io/en/latest/advanced-usage.html#ssl-warnings\n",
      "  InsecureRequestWarning)\n"
     ]
    },
    {
     "name": "stdout",
     "output_type": "stream",
     "text": [
      "WASP-022\n"
     ]
    },
    {
     "name": "stderr",
     "output_type": "stream",
     "text": [
      "C:\\ProgramData\\Anaconda3\\lib\\site-packages\\urllib3\\connectionpool.py:847: InsecureRequestWarning: Unverified HTTPS request is being made. Adding certificate verification is strongly advised. See: https://urllib3.readthedocs.io/en/latest/advanced-usage.html#ssl-warnings\n",
      "  InsecureRequestWarning)\n"
     ]
    },
    {
     "name": "stdout",
     "output_type": "stream",
     "text": [
      "WASP-024\n"
     ]
    },
    {
     "name": "stderr",
     "output_type": "stream",
     "text": [
      "C:\\ProgramData\\Anaconda3\\lib\\site-packages\\urllib3\\connectionpool.py:847: InsecureRequestWarning: Unverified HTTPS request is being made. Adding certificate verification is strongly advised. See: https://urllib3.readthedocs.io/en/latest/advanced-usage.html#ssl-warnings\n",
      "  InsecureRequestWarning)\n"
     ]
    },
    {
     "name": "stdout",
     "output_type": "stream",
     "text": [
      "WASP-025\n"
     ]
    },
    {
     "name": "stderr",
     "output_type": "stream",
     "text": [
      "C:\\ProgramData\\Anaconda3\\lib\\site-packages\\urllib3\\connectionpool.py:847: InsecureRequestWarning: Unverified HTTPS request is being made. Adding certificate verification is strongly advised. See: https://urllib3.readthedocs.io/en/latest/advanced-usage.html#ssl-warnings\n",
      "  InsecureRequestWarning)\n"
     ]
    },
    {
     "name": "stdout",
     "output_type": "stream",
     "text": [
      "WASP-026\n"
     ]
    },
    {
     "name": "stderr",
     "output_type": "stream",
     "text": [
      "C:\\ProgramData\\Anaconda3\\lib\\site-packages\\urllib3\\connectionpool.py:847: InsecureRequestWarning: Unverified HTTPS request is being made. Adding certificate verification is strongly advised. See: https://urllib3.readthedocs.io/en/latest/advanced-usage.html#ssl-warnings\n",
      "  InsecureRequestWarning)\n"
     ]
    },
    {
     "name": "stdout",
     "output_type": "stream",
     "text": [
      "WASP-028\n"
     ]
    },
    {
     "name": "stderr",
     "output_type": "stream",
     "text": [
      "C:\\ProgramData\\Anaconda3\\lib\\site-packages\\urllib3\\connectionpool.py:847: InsecureRequestWarning: Unverified HTTPS request is being made. Adding certificate verification is strongly advised. See: https://urllib3.readthedocs.io/en/latest/advanced-usage.html#ssl-warnings\n",
      "  InsecureRequestWarning)\n"
     ]
    },
    {
     "name": "stdout",
     "output_type": "stream",
     "text": [
      "WASP-030\n"
     ]
    },
    {
     "name": "stderr",
     "output_type": "stream",
     "text": [
      "C:\\ProgramData\\Anaconda3\\lib\\site-packages\\urllib3\\connectionpool.py:847: InsecureRequestWarning: Unverified HTTPS request is being made. Adding certificate verification is strongly advised. See: https://urllib3.readthedocs.io/en/latest/advanced-usage.html#ssl-warnings\n",
      "  InsecureRequestWarning)\n"
     ]
    },
    {
     "name": "stdout",
     "output_type": "stream",
     "text": [
      "WASP-031\n"
     ]
    },
    {
     "name": "stderr",
     "output_type": "stream",
     "text": [
      "C:\\ProgramData\\Anaconda3\\lib\\site-packages\\urllib3\\connectionpool.py:847: InsecureRequestWarning: Unverified HTTPS request is being made. Adding certificate verification is strongly advised. See: https://urllib3.readthedocs.io/en/latest/advanced-usage.html#ssl-warnings\n",
      "  InsecureRequestWarning)\n"
     ]
    },
    {
     "name": "stdout",
     "output_type": "stream",
     "text": [
      "WASP-032\n"
     ]
    },
    {
     "name": "stderr",
     "output_type": "stream",
     "text": [
      "C:\\ProgramData\\Anaconda3\\lib\\site-packages\\urllib3\\connectionpool.py:847: InsecureRequestWarning: Unverified HTTPS request is being made. Adding certificate verification is strongly advised. See: https://urllib3.readthedocs.io/en/latest/advanced-usage.html#ssl-warnings\n",
      "  InsecureRequestWarning)\n"
     ]
    },
    {
     "name": "stdout",
     "output_type": "stream",
     "text": [
      "WASP-033\n"
     ]
    },
    {
     "name": "stderr",
     "output_type": "stream",
     "text": [
      "C:\\ProgramData\\Anaconda3\\lib\\site-packages\\urllib3\\connectionpool.py:847: InsecureRequestWarning: Unverified HTTPS request is being made. Adding certificate verification is strongly advised. See: https://urllib3.readthedocs.io/en/latest/advanced-usage.html#ssl-warnings\n",
      "  InsecureRequestWarning)\n"
     ]
    },
    {
     "name": "stdout",
     "output_type": "stream",
     "text": [
      "WASP-038\n"
     ]
    },
    {
     "name": "stderr",
     "output_type": "stream",
     "text": [
      "C:\\ProgramData\\Anaconda3\\lib\\site-packages\\urllib3\\connectionpool.py:847: InsecureRequestWarning: Unverified HTTPS request is being made. Adding certificate verification is strongly advised. See: https://urllib3.readthedocs.io/en/latest/advanced-usage.html#ssl-warnings\n",
      "  InsecureRequestWarning)\n"
     ]
    },
    {
     "name": "stdout",
     "output_type": "stream",
     "text": [
      "WASP-039\n"
     ]
    },
    {
     "name": "stderr",
     "output_type": "stream",
     "text": [
      "C:\\ProgramData\\Anaconda3\\lib\\site-packages\\urllib3\\connectionpool.py:847: InsecureRequestWarning: Unverified HTTPS request is being made. Adding certificate verification is strongly advised. See: https://urllib3.readthedocs.io/en/latest/advanced-usage.html#ssl-warnings\n",
      "  InsecureRequestWarning)\n"
     ]
    },
    {
     "name": "stdout",
     "output_type": "stream",
     "text": [
      "WASP-041\n"
     ]
    },
    {
     "name": "stderr",
     "output_type": "stream",
     "text": [
      "C:\\ProgramData\\Anaconda3\\lib\\site-packages\\urllib3\\connectionpool.py:847: InsecureRequestWarning: Unverified HTTPS request is being made. Adding certificate verification is strongly advised. See: https://urllib3.readthedocs.io/en/latest/advanced-usage.html#ssl-warnings\n",
      "  InsecureRequestWarning)\n"
     ]
    },
    {
     "name": "stdout",
     "output_type": "stream",
     "text": [
      "WASP-043\n"
     ]
    },
    {
     "name": "stderr",
     "output_type": "stream",
     "text": [
      "C:\\ProgramData\\Anaconda3\\lib\\site-packages\\urllib3\\connectionpool.py:847: InsecureRequestWarning: Unverified HTTPS request is being made. Adding certificate verification is strongly advised. See: https://urllib3.readthedocs.io/en/latest/advanced-usage.html#ssl-warnings\n",
      "  InsecureRequestWarning)\n"
     ]
    },
    {
     "name": "stdout",
     "output_type": "stream",
     "text": [
      "WASP-047b\n"
     ]
    },
    {
     "name": "stderr",
     "output_type": "stream",
     "text": [
      "C:\\ProgramData\\Anaconda3\\lib\\site-packages\\urllib3\\connectionpool.py:847: InsecureRequestWarning: Unverified HTTPS request is being made. Adding certificate verification is strongly advised. See: https://urllib3.readthedocs.io/en/latest/advanced-usage.html#ssl-warnings\n",
      "  InsecureRequestWarning)\n"
     ]
    },
    {
     "name": "stdout",
     "output_type": "stream",
     "text": [
      "WASP-049\n"
     ]
    },
    {
     "name": "stderr",
     "output_type": "stream",
     "text": [
      "C:\\ProgramData\\Anaconda3\\lib\\site-packages\\urllib3\\connectionpool.py:847: InsecureRequestWarning: Unverified HTTPS request is being made. Adding certificate verification is strongly advised. See: https://urllib3.readthedocs.io/en/latest/advanced-usage.html#ssl-warnings\n",
      "  InsecureRequestWarning)\n"
     ]
    },
    {
     "name": "stdout",
     "output_type": "stream",
     "text": [
      "WASP-052\n"
     ]
    },
    {
     "name": "stderr",
     "output_type": "stream",
     "text": [
      "C:\\ProgramData\\Anaconda3\\lib\\site-packages\\urllib3\\connectionpool.py:847: InsecureRequestWarning: Unverified HTTPS request is being made. Adding certificate verification is strongly advised. See: https://urllib3.readthedocs.io/en/latest/advanced-usage.html#ssl-warnings\n",
      "  InsecureRequestWarning)\n"
     ]
    },
    {
     "name": "stdout",
     "output_type": "stream",
     "text": [
      "WASP-053\n"
     ]
    },
    {
     "name": "stderr",
     "output_type": "stream",
     "text": [
      "C:\\ProgramData\\Anaconda3\\lib\\site-packages\\urllib3\\connectionpool.py:847: InsecureRequestWarning: Unverified HTTPS request is being made. Adding certificate verification is strongly advised. See: https://urllib3.readthedocs.io/en/latest/advanced-usage.html#ssl-warnings\n",
      "  InsecureRequestWarning)\n"
     ]
    },
    {
     "name": "stdout",
     "output_type": "stream",
     "text": [
      "WASP-060\n"
     ]
    },
    {
     "name": "stderr",
     "output_type": "stream",
     "text": [
      "C:\\ProgramData\\Anaconda3\\lib\\site-packages\\urllib3\\connectionpool.py:847: InsecureRequestWarning: Unverified HTTPS request is being made. Adding certificate verification is strongly advised. See: https://urllib3.readthedocs.io/en/latest/advanced-usage.html#ssl-warnings\n",
      "  InsecureRequestWarning)\n"
     ]
    },
    {
     "name": "stdout",
     "output_type": "stream",
     "text": [
      "WASP-061\n"
     ]
    },
    {
     "name": "stderr",
     "output_type": "stream",
     "text": [
      "C:\\ProgramData\\Anaconda3\\lib\\site-packages\\urllib3\\connectionpool.py:847: InsecureRequestWarning: Unverified HTTPS request is being made. Adding certificate verification is strongly advised. See: https://urllib3.readthedocs.io/en/latest/advanced-usage.html#ssl-warnings\n",
      "  InsecureRequestWarning)\n"
     ]
    },
    {
     "name": "stdout",
     "output_type": "stream",
     "text": [
      "WASP-062\n"
     ]
    },
    {
     "name": "stderr",
     "output_type": "stream",
     "text": [
      "C:\\ProgramData\\Anaconda3\\lib\\site-packages\\urllib3\\connectionpool.py:847: InsecureRequestWarning: Unverified HTTPS request is being made. Adding certificate verification is strongly advised. See: https://urllib3.readthedocs.io/en/latest/advanced-usage.html#ssl-warnings\n",
      "  InsecureRequestWarning)\n"
     ]
    },
    {
     "name": "stdout",
     "output_type": "stream",
     "text": [
      "WASP-066\n"
     ]
    },
    {
     "name": "stderr",
     "output_type": "stream",
     "text": [
      "C:\\ProgramData\\Anaconda3\\lib\\site-packages\\urllib3\\connectionpool.py:847: InsecureRequestWarning: Unverified HTTPS request is being made. Adding certificate verification is strongly advised. See: https://urllib3.readthedocs.io/en/latest/advanced-usage.html#ssl-warnings\n",
      "  InsecureRequestWarning)\n"
     ]
    },
    {
     "name": "stdout",
     "output_type": "stream",
     "text": [
      "WASP-069\n"
     ]
    },
    {
     "name": "stderr",
     "output_type": "stream",
     "text": [
      "C:\\ProgramData\\Anaconda3\\lib\\site-packages\\urllib3\\connectionpool.py:847: InsecureRequestWarning: Unverified HTTPS request is being made. Adding certificate verification is strongly advised. See: https://urllib3.readthedocs.io/en/latest/advanced-usage.html#ssl-warnings\n",
      "  InsecureRequestWarning)\n"
     ]
    },
    {
     "name": "stdout",
     "output_type": "stream",
     "text": [
      "WASP-071\n"
     ]
    },
    {
     "name": "stderr",
     "output_type": "stream",
     "text": [
      "C:\\ProgramData\\Anaconda3\\lib\\site-packages\\urllib3\\connectionpool.py:847: InsecureRequestWarning: Unverified HTTPS request is being made. Adding certificate verification is strongly advised. See: https://urllib3.readthedocs.io/en/latest/advanced-usage.html#ssl-warnings\n",
      "  InsecureRequestWarning)\n"
     ]
    },
    {
     "name": "stdout",
     "output_type": "stream",
     "text": [
      "WASP-072\n"
     ]
    },
    {
     "name": "stderr",
     "output_type": "stream",
     "text": [
      "C:\\ProgramData\\Anaconda3\\lib\\site-packages\\urllib3\\connectionpool.py:847: InsecureRequestWarning: Unverified HTTPS request is being made. Adding certificate verification is strongly advised. See: https://urllib3.readthedocs.io/en/latest/advanced-usage.html#ssl-warnings\n",
      "  InsecureRequestWarning)\n"
     ]
    },
    {
     "name": "stdout",
     "output_type": "stream",
     "text": [
      "WASP-078\n"
     ]
    },
    {
     "name": "stderr",
     "output_type": "stream",
     "text": [
      "C:\\ProgramData\\Anaconda3\\lib\\site-packages\\urllib3\\connectionpool.py:847: InsecureRequestWarning: Unverified HTTPS request is being made. Adding certificate verification is strongly advised. See: https://urllib3.readthedocs.io/en/latest/advanced-usage.html#ssl-warnings\n",
      "  InsecureRequestWarning)\n"
     ]
    },
    {
     "name": "stdout",
     "output_type": "stream",
     "text": [
      "WASP-079\n"
     ]
    },
    {
     "name": "stderr",
     "output_type": "stream",
     "text": [
      "C:\\ProgramData\\Anaconda3\\lib\\site-packages\\urllib3\\connectionpool.py:847: InsecureRequestWarning: Unverified HTTPS request is being made. Adding certificate verification is strongly advised. See: https://urllib3.readthedocs.io/en/latest/advanced-usage.html#ssl-warnings\n",
      "  InsecureRequestWarning)\n"
     ]
    },
    {
     "name": "stdout",
     "output_type": "stream",
     "text": [
      "WASP-080\n"
     ]
    },
    {
     "name": "stderr",
     "output_type": "stream",
     "text": [
      "C:\\ProgramData\\Anaconda3\\lib\\site-packages\\urllib3\\connectionpool.py:847: InsecureRequestWarning: Unverified HTTPS request is being made. Adding certificate verification is strongly advised. See: https://urllib3.readthedocs.io/en/latest/advanced-usage.html#ssl-warnings\n",
      "  InsecureRequestWarning)\n"
     ]
    },
    {
     "name": "stdout",
     "output_type": "stream",
     "text": [
      "WASP-084\n"
     ]
    },
    {
     "name": "stderr",
     "output_type": "stream",
     "text": [
      "C:\\ProgramData\\Anaconda3\\lib\\site-packages\\urllib3\\connectionpool.py:847: InsecureRequestWarning: Unverified HTTPS request is being made. Adding certificate verification is strongly advised. See: https://urllib3.readthedocs.io/en/latest/advanced-usage.html#ssl-warnings\n",
      "  InsecureRequestWarning)\n"
     ]
    },
    {
     "name": "stdout",
     "output_type": "stream",
     "text": [
      "WASP-085\n"
     ]
    },
    {
     "name": "stderr",
     "output_type": "stream",
     "text": [
      "C:\\ProgramData\\Anaconda3\\lib\\site-packages\\urllib3\\connectionpool.py:847: InsecureRequestWarning: Unverified HTTPS request is being made. Adding certificate verification is strongly advised. See: https://urllib3.readthedocs.io/en/latest/advanced-usage.html#ssl-warnings\n",
      "  InsecureRequestWarning)\n"
     ]
    },
    {
     "name": "stdout",
     "output_type": "stream",
     "text": [
      "WASP-087\n"
     ]
    },
    {
     "name": "stderr",
     "output_type": "stream",
     "text": [
      "C:\\ProgramData\\Anaconda3\\lib\\site-packages\\urllib3\\connectionpool.py:847: InsecureRequestWarning: Unverified HTTPS request is being made. Adding certificate verification is strongly advised. See: https://urllib3.readthedocs.io/en/latest/advanced-usage.html#ssl-warnings\n",
      "  InsecureRequestWarning)\n"
     ]
    },
    {
     "name": "stdout",
     "output_type": "stream",
     "text": [
      "WASP-094\n"
     ]
    },
    {
     "name": "stderr",
     "output_type": "stream",
     "text": [
      "C:\\ProgramData\\Anaconda3\\lib\\site-packages\\urllib3\\connectionpool.py:847: InsecureRequestWarning: Unverified HTTPS request is being made. Adding certificate verification is strongly advised. See: https://urllib3.readthedocs.io/en/latest/advanced-usage.html#ssl-warnings\n",
      "  InsecureRequestWarning)\n"
     ]
    },
    {
     "name": "stdout",
     "output_type": "stream",
     "text": [
      "WASP-100\n"
     ]
    },
    {
     "name": "stderr",
     "output_type": "stream",
     "text": [
      "C:\\ProgramData\\Anaconda3\\lib\\site-packages\\urllib3\\connectionpool.py:847: InsecureRequestWarning: Unverified HTTPS request is being made. Adding certificate verification is strongly advised. See: https://urllib3.readthedocs.io/en/latest/advanced-usage.html#ssl-warnings\n",
      "  InsecureRequestWarning)\n"
     ]
    },
    {
     "name": "stdout",
     "output_type": "stream",
     "text": [
      "WASP-103\n"
     ]
    },
    {
     "name": "stderr",
     "output_type": "stream",
     "text": [
      "C:\\ProgramData\\Anaconda3\\lib\\site-packages\\urllib3\\connectionpool.py:847: InsecureRequestWarning: Unverified HTTPS request is being made. Adding certificate verification is strongly advised. See: https://urllib3.readthedocs.io/en/latest/advanced-usage.html#ssl-warnings\n",
      "  InsecureRequestWarning)\n"
     ]
    },
    {
     "name": "stdout",
     "output_type": "stream",
     "text": [
      "WASP-107\n"
     ]
    },
    {
     "name": "stderr",
     "output_type": "stream",
     "text": [
      "C:\\ProgramData\\Anaconda3\\lib\\site-packages\\urllib3\\connectionpool.py:847: InsecureRequestWarning: Unverified HTTPS request is being made. Adding certificate verification is strongly advised. See: https://urllib3.readthedocs.io/en/latest/advanced-usage.html#ssl-warnings\n",
      "  InsecureRequestWarning)\n"
     ]
    },
    {
     "name": "stdout",
     "output_type": "stream",
     "text": [
      "WASP-109\n"
     ]
    },
    {
     "name": "stderr",
     "output_type": "stream",
     "text": [
      "C:\\ProgramData\\Anaconda3\\lib\\site-packages\\urllib3\\connectionpool.py:847: InsecureRequestWarning: Unverified HTTPS request is being made. Adding certificate verification is strongly advised. See: https://urllib3.readthedocs.io/en/latest/advanced-usage.html#ssl-warnings\n",
      "  InsecureRequestWarning)\n"
     ]
    },
    {
     "name": "stdout",
     "output_type": "stream",
     "text": [
      "WASP-111\n"
     ]
    },
    {
     "name": "stderr",
     "output_type": "stream",
     "text": [
      "C:\\ProgramData\\Anaconda3\\lib\\site-packages\\urllib3\\connectionpool.py:847: InsecureRequestWarning: Unverified HTTPS request is being made. Adding certificate verification is strongly advised. See: https://urllib3.readthedocs.io/en/latest/advanced-usage.html#ssl-warnings\n",
      "  InsecureRequestWarning)\n"
     ]
    },
    {
     "name": "stdout",
     "output_type": "stream",
     "text": [
      "WASP-117\n"
     ]
    },
    {
     "name": "stderr",
     "output_type": "stream",
     "text": [
      "C:\\ProgramData\\Anaconda3\\lib\\site-packages\\urllib3\\connectionpool.py:847: InsecureRequestWarning: Unverified HTTPS request is being made. Adding certificate verification is strongly advised. See: https://urllib3.readthedocs.io/en/latest/advanced-usage.html#ssl-warnings\n",
      "  InsecureRequestWarning)\n"
     ]
    },
    {
     "name": "stdout",
     "output_type": "stream",
     "text": [
      "WASP-121\n"
     ]
    },
    {
     "name": "stderr",
     "output_type": "stream",
     "text": [
      "C:\\ProgramData\\Anaconda3\\lib\\site-packages\\urllib3\\connectionpool.py:847: InsecureRequestWarning: Unverified HTTPS request is being made. Adding certificate verification is strongly advised. See: https://urllib3.readthedocs.io/en/latest/advanced-usage.html#ssl-warnings\n",
      "  InsecureRequestWarning)\n"
     ]
    },
    {
     "name": "stdout",
     "output_type": "stream",
     "text": [
      "WASP-134\n"
     ]
    },
    {
     "name": "stderr",
     "output_type": "stream",
     "text": [
      "C:\\ProgramData\\Anaconda3\\lib\\site-packages\\urllib3\\connectionpool.py:847: InsecureRequestWarning: Unverified HTTPS request is being made. Adding certificate verification is strongly advised. See: https://urllib3.readthedocs.io/en/latest/advanced-usage.html#ssl-warnings\n",
      "  InsecureRequestWarning)\n"
     ]
    },
    {
     "name": "stdout",
     "output_type": "stream",
     "text": [
      "WASP-166\n"
     ]
    },
    {
     "name": "stderr",
     "output_type": "stream",
     "text": [
      "C:\\ProgramData\\Anaconda3\\lib\\site-packages\\urllib3\\connectionpool.py:847: InsecureRequestWarning: Unverified HTTPS request is being made. Adding certificate verification is strongly advised. See: https://urllib3.readthedocs.io/en/latest/advanced-usage.html#ssl-warnings\n",
      "  InsecureRequestWarning)\n"
     ]
    },
    {
     "name": "stdout",
     "output_type": "stream",
     "text": [
      "WASP-167\n"
     ]
    },
    {
     "name": "stderr",
     "output_type": "stream",
     "text": [
      "C:\\ProgramData\\Anaconda3\\lib\\site-packages\\urllib3\\connectionpool.py:847: InsecureRequestWarning: Unverified HTTPS request is being made. Adding certificate verification is strongly advised. See: https://urllib3.readthedocs.io/en/latest/advanced-usage.html#ssl-warnings\n",
      "  InsecureRequestWarning)\n"
     ]
    },
    {
     "name": "stdout",
     "output_type": "stream",
     "text": [
      "WASP-174\n"
     ]
    },
    {
     "name": "stderr",
     "output_type": "stream",
     "text": [
      "C:\\ProgramData\\Anaconda3\\lib\\site-packages\\urllib3\\connectionpool.py:847: InsecureRequestWarning: Unverified HTTPS request is being made. Adding certificate verification is strongly advised. See: https://urllib3.readthedocs.io/en/latest/advanced-usage.html#ssl-warnings\n",
      "  InsecureRequestWarning)\n"
     ]
    },
    {
     "name": "stdout",
     "output_type": "stream",
     "text": [
      "WASP-180\n"
     ]
    },
    {
     "name": "stderr",
     "output_type": "stream",
     "text": [
      "C:\\ProgramData\\Anaconda3\\lib\\site-packages\\urllib3\\connectionpool.py:847: InsecureRequestWarning: Unverified HTTPS request is being made. Adding certificate verification is strongly advised. See: https://urllib3.readthedocs.io/en/latest/advanced-usage.html#ssl-warnings\n",
      "  InsecureRequestWarning)\n"
     ]
    },
    {
     "name": "stdout",
     "output_type": "stream",
     "text": [
      "WASP-189\n"
     ]
    },
    {
     "name": "stderr",
     "output_type": "stream",
     "text": [
      "C:\\ProgramData\\Anaconda3\\lib\\site-packages\\urllib3\\connectionpool.py:847: InsecureRequestWarning: Unverified HTTPS request is being made. Adding certificate verification is strongly advised. See: https://urllib3.readthedocs.io/en/latest/advanced-usage.html#ssl-warnings\n",
      "  InsecureRequestWarning)\n"
     ]
    },
    {
     "name": "stdout",
     "output_type": "stream",
     "text": [
      "WASP-190\n"
     ]
    },
    {
     "name": "stderr",
     "output_type": "stream",
     "text": [
      "C:\\ProgramData\\Anaconda3\\lib\\site-packages\\urllib3\\connectionpool.py:847: InsecureRequestWarning: Unverified HTTPS request is being made. Adding certificate verification is strongly advised. See: https://urllib3.readthedocs.io/en/latest/advanced-usage.html#ssl-warnings\n",
      "  InsecureRequestWarning)\n"
     ]
    },
    {
     "name": "stdout",
     "output_type": "stream",
     "text": [
      "XO-2\n"
     ]
    },
    {
     "name": "stderr",
     "output_type": "stream",
     "text": [
      "C:\\ProgramData\\Anaconda3\\lib\\site-packages\\urllib3\\connectionpool.py:847: InsecureRequestWarning: Unverified HTTPS request is being made. Adding certificate verification is strongly advised. See: https://urllib3.readthedocs.io/en/latest/advanced-usage.html#ssl-warnings\n",
      "  InsecureRequestWarning)\n"
     ]
    },
    {
     "name": "stdout",
     "output_type": "stream",
     "text": [
      "XO-3\n"
     ]
    },
    {
     "name": "stderr",
     "output_type": "stream",
     "text": [
      "C:\\ProgramData\\Anaconda3\\lib\\site-packages\\urllib3\\connectionpool.py:847: InsecureRequestWarning: Unverified HTTPS request is being made. Adding certificate verification is strongly advised. See: https://urllib3.readthedocs.io/en/latest/advanced-usage.html#ssl-warnings\n",
      "  InsecureRequestWarning)\n"
     ]
    },
    {
     "name": "stdout",
     "output_type": "stream",
     "text": [
      "XO-4\n"
     ]
    },
    {
     "name": "stderr",
     "output_type": "stream",
     "text": [
      "C:\\ProgramData\\Anaconda3\\lib\\site-packages\\urllib3\\connectionpool.py:847: InsecureRequestWarning: Unverified HTTPS request is being made. Adding certificate verification is strongly advised. See: https://urllib3.readthedocs.io/en/latest/advanced-usage.html#ssl-warnings\n",
      "  InsecureRequestWarning)\n"
     ]
    },
    {
     "name": "stdout",
     "output_type": "stream",
     "text": [
      "XO-6\n"
     ]
    }
   ],
   "source": [
    "\n",
    "for i in system:\n",
    "    planet_page = 'https://www.astro.keele.ac.uk/jkt/tepcat/planets/' + i + '.html'\n",
    "    http = urllib3.PoolManager()\n",
    "    r = http.request('GET', planet_page)\n",
    "    soup = BeautifulSoup(r.data, 'html.parser')\n",
    "    soup_text=soup.get_text()\n",
    "    soup_list = soup_text.split('\\n')\n",
    "    #print(i)\n",
    "    #print(soup_list[55])\n",
    "    #print(soup_list[56])\n",
    "    #print(soup_list[58])\n",
    "    soup_list_split=soup_list[55].split('  ')\n",
    "    planet_mass=soup_list_split[2].split(' ')\n",
    "    soup_list_split=soup_list[56].split('  ')\n",
    "    planet_radius=soup_list_split[2].split(' ')\n",
    "    soup_list_split=soup_list[58].split('  ')\n",
    "    planet_density=soup_list_split[2].split(' ')\n",
    "    print(i)\n",
    "    data={'name':[i],\n",
    "                  'mass':[float(planet_mass[0])],\n",
    "                  #'masserr':[planet_mass[2]],\n",
    "                  'radius':[float(planet_radius[0])]}\n",
    "                  #'radiuserr':[planet_radius[2]],}\n",
    "                  #'density':[float(planet_density[0])],}\n",
    "                  #'densityerr':[planet_density[2]]}\n",
    "    df2 = pd.DataFrame(data)\n",
    "    #print(df2)\n",
    "    df=df.append(df2,ignore_index=True)\n",
    "    #print(df)"
   ]
  },
  {
   "cell_type": "code",
   "execution_count": 98,
   "metadata": {},
   "outputs": [
    {
     "data": {
      "text/html": [
       "<div>\n",
       "<style scoped>\n",
       "    .dataframe tbody tr th:only-of-type {\n",
       "        vertical-align: middle;\n",
       "    }\n",
       "\n",
       "    .dataframe tbody tr th {\n",
       "        vertical-align: top;\n",
       "    }\n",
       "\n",
       "    .dataframe thead th {\n",
       "        text-align: right;\n",
       "    }\n",
       "</style>\n",
       "<table border=\"1\" class=\"dataframe\">\n",
       "  <thead>\n",
       "    <tr style=\"text-align: right;\">\n",
       "      <th></th>\n",
       "      <th>name</th>\n",
       "      <th>mass</th>\n",
       "      <th>radius</th>\n",
       "    </tr>\n",
       "  </thead>\n",
       "  <tbody>\n",
       "    <tr>\n",
       "      <th>8</th>\n",
       "      <td>EPIC_246851721</td>\n",
       "      <td>0.0000</td>\n",
       "      <td>1.0040</td>\n",
       "    </tr>\n",
       "    <tr>\n",
       "      <th>56</th>\n",
       "      <td>KELT-20</td>\n",
       "      <td>0.0000</td>\n",
       "      <td>1.7350</td>\n",
       "    </tr>\n",
       "    <tr>\n",
       "      <th>65</th>\n",
       "      <td>Kepler-063</td>\n",
       "      <td>0.0000</td>\n",
       "      <td>0.5440</td>\n",
       "    </tr>\n",
       "    <tr>\n",
       "      <th>135</th>\n",
       "      <td>WASP-167</td>\n",
       "      <td>0.0000</td>\n",
       "      <td>1.5600</td>\n",
       "    </tr>\n",
       "    <tr>\n",
       "      <th>37</th>\n",
       "      <td>HAT-P-70</td>\n",
       "      <td>0.0000</td>\n",
       "      <td>1.8700</td>\n",
       "    </tr>\n",
       "    <tr>\n",
       "      <th>57</th>\n",
       "      <td>KELT-21</td>\n",
       "      <td>0.0000</td>\n",
       "      <td>1.5860</td>\n",
       "    </tr>\n",
       "    <tr>\n",
       "      <th>55</th>\n",
       "      <td>KELT-19</td>\n",
       "      <td>0.0000</td>\n",
       "      <td>1.9100</td>\n",
       "    </tr>\n",
       "    <tr>\n",
       "      <th>7</th>\n",
       "      <td>DS_Tuc</td>\n",
       "      <td>0.0000</td>\n",
       "      <td>0.5000</td>\n",
       "    </tr>\n",
       "    <tr>\n",
       "      <th>0</th>\n",
       "      <td>55_Cnc_e</td>\n",
       "      <td>0.0243</td>\n",
       "      <td>0.1692</td>\n",
       "    </tr>\n",
       "    <tr>\n",
       "      <th>64</th>\n",
       "      <td>Kepler-030b</td>\n",
       "      <td>0.0289</td>\n",
       "      <td>0.3350</td>\n",
       "    </tr>\n",
       "    <tr>\n",
       "      <th>41</th>\n",
       "      <td>HD_003167c</td>\n",
       "      <td>0.0308</td>\n",
       "      <td>0.2690</td>\n",
       "    </tr>\n",
       "    <tr>\n",
       "      <th>63</th>\n",
       "      <td>Kepler-025c</td>\n",
       "      <td>0.0479</td>\n",
       "      <td>0.4654</td>\n",
       "    </tr>\n",
       "    <tr>\n",
       "      <th>44</th>\n",
       "      <td>HD_106315c</td>\n",
       "      <td>0.0480</td>\n",
       "      <td>0.3880</td>\n",
       "    </tr>\n",
       "    <tr>\n",
       "      <th>9</th>\n",
       "      <td>GJ_0436</td>\n",
       "      <td>0.0799</td>\n",
       "      <td>0.3660</td>\n",
       "    </tr>\n",
       "    <tr>\n",
       "      <th>18</th>\n",
       "      <td>HAT-P-11</td>\n",
       "      <td>0.0873</td>\n",
       "      <td>0.3890</td>\n",
       "    </tr>\n",
       "    <tr>\n",
       "      <th>134</th>\n",
       "      <td>WASP-166</td>\n",
       "      <td>0.1020</td>\n",
       "      <td>0.6300</td>\n",
       "    </tr>\n",
       "    <tr>\n",
       "      <th>128</th>\n",
       "      <td>WASP-107</td>\n",
       "      <td>0.1190</td>\n",
       "      <td>0.9240</td>\n",
       "    </tr>\n",
       "    <tr>\n",
       "      <th>60</th>\n",
       "      <td>Kepler-009b</td>\n",
       "      <td>0.1365</td>\n",
       "      <td>0.7360</td>\n",
       "    </tr>\n",
       "    <tr>\n",
       "      <th>24</th>\n",
       "      <td>HAT-P-18</td>\n",
       "      <td>0.1960</td>\n",
       "      <td>0.9470</td>\n",
       "    </tr>\n",
       "    <tr>\n",
       "      <th>19</th>\n",
       "      <td>HAT-P-12</td>\n",
       "      <td>0.2010</td>\n",
       "      <td>0.9190</td>\n",
       "    </tr>\n",
       "    <tr>\n",
       "      <th>116</th>\n",
       "      <td>WASP-069</td>\n",
       "      <td>0.2600</td>\n",
       "      <td>1.0570</td>\n",
       "    </tr>\n",
       "    <tr>\n",
       "      <th>131</th>\n",
       "      <td>WASP-117</td>\n",
       "      <td>0.2755</td>\n",
       "      <td>1.0210</td>\n",
       "    </tr>\n",
       "    <tr>\n",
       "      <th>105</th>\n",
       "      <td>WASP-039</td>\n",
       "      <td>0.2810</td>\n",
       "      <td>1.2790</td>\n",
       "    </tr>\n",
       "    <tr>\n",
       "      <th>136</th>\n",
       "      <td>WASP-174</td>\n",
       "      <td>0.3300</td>\n",
       "      <td>1.4370</td>\n",
       "    </tr>\n",
       "    <tr>\n",
       "      <th>66</th>\n",
       "      <td>Kepler-089d</td>\n",
       "      <td>0.3330</td>\n",
       "      <td>1.0050</td>\n",
       "    </tr>\n",
       "    <tr>\n",
       "      <th>45</th>\n",
       "      <td>HD_149026</td>\n",
       "      <td>0.3680</td>\n",
       "      <td>0.8130</td>\n",
       "    </tr>\n",
       "    <tr>\n",
       "      <th>109</th>\n",
       "      <td>WASP-049</td>\n",
       "      <td>0.3960</td>\n",
       "      <td>1.1980</td>\n",
       "    </tr>\n",
       "    <tr>\n",
       "      <th>94</th>\n",
       "      <td>WASP-020</td>\n",
       "      <td>0.3960</td>\n",
       "      <td>1.3820</td>\n",
       "    </tr>\n",
       "    <tr>\n",
       "      <th>51</th>\n",
       "      <td>KELT-06</td>\n",
       "      <td>0.4300</td>\n",
       "      <td>1.1930</td>\n",
       "    </tr>\n",
       "    <tr>\n",
       "      <th>110</th>\n",
       "      <td>WASP-052</td>\n",
       "      <td>0.4340</td>\n",
       "      <td>1.2530</td>\n",
       "    </tr>\n",
       "    <tr>\n",
       "      <th>125</th>\n",
       "      <td>WASP-094</td>\n",
       "      <td>0.4520</td>\n",
       "      <td>1.7200</td>\n",
       "    </tr>\n",
       "    <tr>\n",
       "      <th>91</th>\n",
       "      <td>WASP-017</td>\n",
       "      <td>0.4770</td>\n",
       "      <td>1.9320</td>\n",
       "    </tr>\n",
       "    <tr>\n",
       "      <th>101</th>\n",
       "      <td>WASP-031</td>\n",
       "      <td>0.4780</td>\n",
       "      <td>1.5490</td>\n",
       "    </tr>\n",
       "    <tr>\n",
       "      <th>82</th>\n",
       "      <td>WASP-006</td>\n",
       "      <td>0.4850</td>\n",
       "      <td>1.2300</td>\n",
       "    </tr>\n",
       "    <tr>\n",
       "      <th>85</th>\n",
       "      <td>WASP-011</td>\n",
       "      <td>0.4920</td>\n",
       "      <td>0.9900</td>\n",
       "    </tr>\n",
       "    <tr>\n",
       "      <th>76</th>\n",
       "      <td>TrES-4</td>\n",
       "      <td>0.4940</td>\n",
       "      <td>1.8380</td>\n",
       "    </tr>\n",
       "    <tr>\n",
       "      <th>87</th>\n",
       "      <td>WASP-013</td>\n",
       "      <td>0.5120</td>\n",
       "      <td>1.5280</td>\n",
       "    </tr>\n",
       "    <tr>\n",
       "      <th>10</th>\n",
       "      <td>HAT-P-01</td>\n",
       "      <td>0.5250</td>\n",
       "      <td>1.3190</td>\n",
       "    </tr>\n",
       "    <tr>\n",
       "      <th>23</th>\n",
       "      <td>HAT-P-17</td>\n",
       "      <td>0.5340</td>\n",
       "      <td>1.0100</td>\n",
       "    </tr>\n",
       "    <tr>\n",
       "      <th>112</th>\n",
       "      <td>WASP-060</td>\n",
       "      <td>0.5600</td>\n",
       "      <td>1.2250</td>\n",
       "    </tr>\n",
       "    <tr>\n",
       "      <th>121</th>\n",
       "      <td>WASP-080</td>\n",
       "      <td>0.5620</td>\n",
       "      <td>0.9860</td>\n",
       "    </tr>\n",
       "    <tr>\n",
       "      <th>114</th>\n",
       "      <td>WASP-062</td>\n",
       "      <td>0.5700</td>\n",
       "      <td>1.3900</td>\n",
       "    </tr>\n",
       "    <tr>\n",
       "      <th>59</th>\n",
       "      <td>Kepler-008</td>\n",
       "      <td>0.5900</td>\n",
       "      <td>1.3810</td>\n",
       "    </tr>\n",
       "    <tr>\n",
       "      <th>89</th>\n",
       "      <td>WASP-015</td>\n",
       "      <td>0.5920</td>\n",
       "      <td>1.4080</td>\n",
       "    </tr>\n",
       "    <tr>\n",
       "      <th>12</th>\n",
       "      <td>HAT-P-03</td>\n",
       "      <td>0.5950</td>\n",
       "      <td>0.9110</td>\n",
       "    </tr>\n",
       "    <tr>\n",
       "      <th>140</th>\n",
       "      <td>XO-2</td>\n",
       "      <td>0.5970</td>\n",
       "      <td>1.0190</td>\n",
       "    </tr>\n",
       "    <tr>\n",
       "      <th>97</th>\n",
       "      <td>WASP-025</td>\n",
       "      <td>0.5980</td>\n",
       "      <td>1.2470</td>\n",
       "    </tr>\n",
       "    <tr>\n",
       "      <th>95</th>\n",
       "      <td>WASP-022</td>\n",
       "      <td>0.6170</td>\n",
       "      <td>1.1990</td>\n",
       "    </tr>\n",
       "    <tr>\n",
       "      <th>29</th>\n",
       "      <td>HAT-P-27</td>\n",
       "      <td>0.6600</td>\n",
       "      <td>1.0380</td>\n",
       "    </tr>\n",
       "    <tr>\n",
       "      <th>71</th>\n",
       "      <td>NGTS-02</td>\n",
       "      <td>0.6700</td>\n",
       "      <td>1.5360</td>\n",
       "    </tr>\n",
       "    <tr>\n",
       "      <th>13</th>\n",
       "      <td>HAT-P-04</td>\n",
       "      <td>0.6800</td>\n",
       "      <td>1.3370</td>\n",
       "    </tr>\n",
       "    <tr>\n",
       "      <th>28</th>\n",
       "      <td>HAT-P-24</td>\n",
       "      <td>0.6810</td>\n",
       "      <td>1.2430</td>\n",
       "    </tr>\n",
       "    <tr>\n",
       "      <th>122</th>\n",
       "      <td>WASP-084</td>\n",
       "      <td>0.6870</td>\n",
       "      <td>0.9760</td>\n",
       "    </tr>\n",
       "    <tr>\n",
       "      <th>30</th>\n",
       "      <td>HAT-P-30</td>\n",
       "      <td>0.7110</td>\n",
       "      <td>1.3400</td>\n",
       "    </tr>\n",
       "    <tr>\n",
       "      <th>47</th>\n",
       "      <td>HD_209458</td>\n",
       "      <td>0.7140</td>\n",
       "      <td>1.3800</td>\n",
       "    </tr>\n",
       "    <tr>\n",
       "      <th>48</th>\n",
       "      <td>K2-029</td>\n",
       "      <td>0.7300</td>\n",
       "      <td>1.1900</td>\n",
       "    </tr>\n",
       "    <tr>\n",
       "      <th>74</th>\n",
       "      <td>TrES-1</td>\n",
       "      <td>0.7610</td>\n",
       "      <td>1.0990</td>\n",
       "    </tr>\n",
       "    <tr>\n",
       "      <th>17</th>\n",
       "      <td>HAT-P-09</td>\n",
       "      <td>0.7780</td>\n",
       "      <td>1.3800</td>\n",
       "    </tr>\n",
       "    <tr>\n",
       "      <th>137</th>\n",
       "      <td>WASP-180</td>\n",
       "      <td>0.8000</td>\n",
       "      <td>1.2900</td>\n",
       "    </tr>\n",
       "    <tr>\n",
       "      <th>31</th>\n",
       "      <td>HAT-P-32</td>\n",
       "      <td>0.8000</td>\n",
       "      <td>1.8070</td>\n",
       "    </tr>\n",
       "    <tr>\n",
       "      <th>34</th>\n",
       "      <td>HAT-P-41</td>\n",
       "      <td>0.8000</td>\n",
       "      <td>1.6850</td>\n",
       "    </tr>\n",
       "    <tr>\n",
       "      <th>90</th>\n",
       "      <td>WASP-016</td>\n",
       "      <td>0.8320</td>\n",
       "      <td>1.2180</td>\n",
       "    </tr>\n",
       "    <tr>\n",
       "      <th>77</th>\n",
       "      <td>WASP-001</td>\n",
       "      <td>0.8540</td>\n",
       "      <td>1.4830</td>\n",
       "    </tr>\n",
       "    <tr>\n",
       "      <th>119</th>\n",
       "      <td>WASP-078</td>\n",
       "      <td>0.8600</td>\n",
       "      <td>2.0600</td>\n",
       "    </tr>\n",
       "    <tr>\n",
       "      <th>120</th>\n",
       "      <td>WASP-079</td>\n",
       "      <td>0.8600</td>\n",
       "      <td>1.5300</td>\n",
       "    </tr>\n",
       "    <tr>\n",
       "      <th>99</th>\n",
       "      <td>WASP-028</td>\n",
       "      <td>0.8890</td>\n",
       "      <td>1.2190</td>\n",
       "    </tr>\n",
       "    <tr>\n",
       "      <th>78</th>\n",
       "      <td>WASP-002</td>\n",
       "      <td>0.8920</td>\n",
       "      <td>1.0600</td>\n",
       "    </tr>\n",
       "    <tr>\n",
       "      <th>20</th>\n",
       "      <td>HAT-P-13</td>\n",
       "      <td>0.9060</td>\n",
       "      <td>1.4870</td>\n",
       "    </tr>\n",
       "    <tr>\n",
       "      <th>129</th>\n",
       "      <td>WASP-109</td>\n",
       "      <td>0.9100</td>\n",
       "      <td>1.4430</td>\n",
       "    </tr>\n",
       "    <tr>\n",
       "      <th>106</th>\n",
       "      <td>WASP-041</td>\n",
       "      <td>0.9770</td>\n",
       "      <td>1.1780</td>\n",
       "    </tr>\n",
       "    <tr>\n",
       "      <th>83</th>\n",
       "      <td>WASP-007</td>\n",
       "      <td>0.9800</td>\n",
       "      <td>1.3740</td>\n",
       "    </tr>\n",
       "    <tr>\n",
       "      <th>139</th>\n",
       "      <td>WASP-190</td>\n",
       "      <td>1.0000</td>\n",
       "      <td>1.1500</td>\n",
       "    </tr>\n",
       "    <tr>\n",
       "      <th>98</th>\n",
       "      <td>WASP-026</td>\n",
       "      <td>1.0200</td>\n",
       "      <td>1.2160</td>\n",
       "    </tr>\n",
       "    <tr>\n",
       "      <th>1</th>\n",
       "      <td>CoRoT-01</td>\n",
       "      <td>1.0300</td>\n",
       "      <td>1.5510</td>\n",
       "    </tr>\n",
       "    <tr>\n",
       "      <th>14</th>\n",
       "      <td>HAT-P-06</td>\n",
       "      <td>1.0630</td>\n",
       "      <td>1.3950</td>\n",
       "    </tr>\n",
       "    <tr>\n",
       "      <th>39</th>\n",
       "      <td>HATS-14</td>\n",
       "      <td>1.0710</td>\n",
       "      <td>1.0390</td>\n",
       "    </tr>\n",
       "    <tr>\n",
       "      <th>38</th>\n",
       "      <td>HATS-03</td>\n",
       "      <td>1.0710</td>\n",
       "      <td>1.3810</td>\n",
       "    </tr>\n",
       "    <tr>\n",
       "      <th>6</th>\n",
       "      <td>CoRoT-19</td>\n",
       "      <td>1.0900</td>\n",
       "      <td>1.1900</td>\n",
       "    </tr>\n",
       "    <tr>\n",
       "      <th>68</th>\n",
       "      <td>Kepler-448</td>\n",
       "      <td>1.1000</td>\n",
       "      <td>1.4400</td>\n",
       "    </tr>\n",
       "    <tr>\n",
       "      <th>96</th>\n",
       "      <td>WASP-024</td>\n",
       "      <td>1.1090</td>\n",
       "      <td>1.3030</td>\n",
       "    </tr>\n",
       "    <tr>\n",
       "      <th>93</th>\n",
       "      <td>WASP-019</td>\n",
       "      <td>1.1390</td>\n",
       "      <td>1.4100</td>\n",
       "    </tr>\n",
       "    <tr>\n",
       "      <th>108</th>\n",
       "      <td>WASP-047b</td>\n",
       "      <td>1.1420</td>\n",
       "      <td>1.1230</td>\n",
       "    </tr>\n",
       "    <tr>\n",
       "      <th>46</th>\n",
       "      <td>HD_189733</td>\n",
       "      <td>1.1500</td>\n",
       "      <td>1.1510</td>\n",
       "    </tr>\n",
       "    <tr>\n",
       "      <th>132</th>\n",
       "      <td>WASP-121</td>\n",
       "      <td>1.1830</td>\n",
       "      <td>1.8650</td>\n",
       "    </tr>\n",
       "    <tr>\n",
       "      <th>75</th>\n",
       "      <td>TrES-2</td>\n",
       "      <td>1.2060</td>\n",
       "      <td>1.1930</td>\n",
       "    </tr>\n",
       "    <tr>\n",
       "      <th>80</th>\n",
       "      <td>WASP-004</td>\n",
       "      <td>1.2490</td>\n",
       "      <td>1.3640</td>\n",
       "    </tr>\n",
       "    <tr>\n",
       "      <th>123</th>\n",
       "      <td>WASP-085</td>\n",
       "      <td>1.2650</td>\n",
       "      <td>1.2400</td>\n",
       "    </tr>\n",
       "    <tr>\n",
       "      <th>16</th>\n",
       "      <td>HAT-P-08</td>\n",
       "      <td>1.2750</td>\n",
       "      <td>1.3210</td>\n",
       "    </tr>\n",
       "    <tr>\n",
       "      <th>52</th>\n",
       "      <td>KELT-07</td>\n",
       "      <td>1.2800</td>\n",
       "      <td>1.5330</td>\n",
       "    </tr>\n",
       "    <tr>\n",
       "      <th>72</th>\n",
       "      <td>Qatar-1</td>\n",
       "      <td>1.2940</td>\n",
       "      <td>1.1430</td>\n",
       "    </tr>\n",
       "    <tr>\n",
       "      <th>54</th>\n",
       "      <td>KELT-17</td>\n",
       "      <td>1.3100</td>\n",
       "      <td>1.5250</td>\n",
       "    </tr>\n",
       "    <tr>\n",
       "      <th>133</th>\n",
       "      <td>WASP-134</td>\n",
       "      <td>1.4120</td>\n",
       "      <td>0.9880</td>\n",
       "    </tr>\n",
       "    <tr>\n",
       "      <th>67</th>\n",
       "      <td>Kepler-420</td>\n",
       "      <td>1.4500</td>\n",
       "      <td>0.9400</td>\n",
       "    </tr>\n",
       "    <tr>\n",
       "      <th>118</th>\n",
       "      <td>WASP-072</td>\n",
       "      <td>1.4610</td>\n",
       "      <td>1.2700</td>\n",
       "    </tr>\n",
       "    <tr>\n",
       "      <th>86</th>\n",
       "      <td>WASP-012</td>\n",
       "      <td>1.4700</td>\n",
       "      <td>1.9000</td>\n",
       "    </tr>\n",
       "    <tr>\n",
       "      <th>127</th>\n",
       "      <td>WASP-103</td>\n",
       "      <td>1.4700</td>\n",
       "      <td>1.6460</td>\n",
       "    </tr>\n",
       "    <tr>\n",
       "      <th>81</th>\n",
       "      <td>WASP-005</td>\n",
       "      <td>1.5950</td>\n",
       "      <td>1.1750</td>\n",
       "    </tr>\n",
       "    <tr>\n",
       "      <th>142</th>\n",
       "      <td>XO-4</td>\n",
       "      <td>1.6150</td>\n",
       "      <td>1.3170</td>\n",
       "    </tr>\n",
       "    <tr>\n",
       "      <th>49</th>\n",
       "      <td>K2-034</td>\n",
       "      <td>1.6490</td>\n",
       "      <td>1.2170</td>\n",
       "    </tr>\n",
       "    <tr>\n",
       "      <th>79</th>\n",
       "      <td>WASP-003</td>\n",
       "      <td>1.7700</td>\n",
       "      <td>1.3460</td>\n",
       "    </tr>\n",
       "    <tr>\n",
       "      <th>130</th>\n",
       "      <td>WASP-111</td>\n",
       "      <td>1.8300</td>\n",
       "      <td>1.4430</td>\n",
       "    </tr>\n",
       "    <tr>\n",
       "      <th>33</th>\n",
       "      <td>HAT-P-36</td>\n",
       "      <td>1.8520</td>\n",
       "      <td>1.3040</td>\n",
       "    </tr>\n",
       "    <tr>\n",
       "      <th>15</th>\n",
       "      <td>HAT-P-07</td>\n",
       "      <td>1.8700</td>\n",
       "      <td>1.5260</td>\n",
       "    </tr>\n",
       "    <tr>\n",
       "      <th>143</th>\n",
       "      <td>XO-6</td>\n",
       "      <td>1.9000</td>\n",
       "      <td>2.0700</td>\n",
       "    </tr>\n",
       "    <tr>\n",
       "      <th>126</th>\n",
       "      <td>WASP-100</td>\n",
       "      <td>2.0300</td>\n",
       "      <td>1.4000</td>\n",
       "    </tr>\n",
       "    <tr>\n",
       "      <th>107</th>\n",
       "      <td>WASP-043</td>\n",
       "      <td>2.0340</td>\n",
       "      <td>1.0360</td>\n",
       "    </tr>\n",
       "    <tr>\n",
       "      <th>113</th>\n",
       "      <td>WASP-061</td>\n",
       "      <td>2.0600</td>\n",
       "      <td>1.2200</td>\n",
       "    </tr>\n",
       "    <tr>\n",
       "      <th>27</th>\n",
       "      <td>HAT-P-23</td>\n",
       "      <td>2.0700</td>\n",
       "      <td>1.2240</td>\n",
       "    </tr>\n",
       "    <tr>\n",
       "      <th>138</th>\n",
       "      <td>WASP-189</td>\n",
       "      <td>2.1300</td>\n",
       "      <td>1.3740</td>\n",
       "    </tr>\n",
       "    <tr>\n",
       "      <th>111</th>\n",
       "      <td>WASP-053</td>\n",
       "      <td>2.1320</td>\n",
       "      <td>1.0740</td>\n",
       "    </tr>\n",
       "    <tr>\n",
       "      <th>103</th>\n",
       "      <td>WASP-033</td>\n",
       "      <td>2.1600</td>\n",
       "      <td>1.6790</td>\n",
       "    </tr>\n",
       "    <tr>\n",
       "      <th>124</th>\n",
       "      <td>WASP-087</td>\n",
       "      <td>2.1800</td>\n",
       "      <td>1.3850</td>\n",
       "    </tr>\n",
       "    <tr>\n",
       "      <th>35</th>\n",
       "      <td>HAT-P-56</td>\n",
       "      <td>2.1800</td>\n",
       "      <td>1.4660</td>\n",
       "    </tr>\n",
       "    <tr>\n",
       "      <th>26</th>\n",
       "      <td>HAT-P-22</td>\n",
       "      <td>2.1920</td>\n",
       "      <td>1.0600</td>\n",
       "    </tr>\n",
       "    <tr>\n",
       "      <th>84</th>\n",
       "      <td>WASP-008</td>\n",
       "      <td>2.2160</td>\n",
       "      <td>1.1650</td>\n",
       "    </tr>\n",
       "    <tr>\n",
       "      <th>117</th>\n",
       "      <td>WASP-071</td>\n",
       "      <td>2.2420</td>\n",
       "      <td>1.4600</td>\n",
       "    </tr>\n",
       "    <tr>\n",
       "      <th>21</th>\n",
       "      <td>HAT-P-14</td>\n",
       "      <td>2.2710</td>\n",
       "      <td>1.2190</td>\n",
       "    </tr>\n",
       "    <tr>\n",
       "      <th>115</th>\n",
       "      <td>WASP-066</td>\n",
       "      <td>2.3200</td>\n",
       "      <td>1.3900</td>\n",
       "    </tr>\n",
       "    <tr>\n",
       "      <th>4</th>\n",
       "      <td>CoRoT-11</td>\n",
       "      <td>2.3400</td>\n",
       "      <td>1.4260</td>\n",
       "    </tr>\n",
       "    <tr>\n",
       "      <th>62</th>\n",
       "      <td>Kepler-017</td>\n",
       "      <td>2.3400</td>\n",
       "      <td>1.3100</td>\n",
       "    </tr>\n",
       "    <tr>\n",
       "      <th>73</th>\n",
       "      <td>Qatar-2</td>\n",
       "      <td>2.4660</td>\n",
       "      <td>1.1150</td>\n",
       "    </tr>\n",
       "    <tr>\n",
       "      <th>104</th>\n",
       "      <td>WASP-038</td>\n",
       "      <td>2.6910</td>\n",
       "      <td>1.0940</td>\n",
       "    </tr>\n",
       "    <tr>\n",
       "      <th>53</th>\n",
       "      <td>KELT-09</td>\n",
       "      <td>2.8800</td>\n",
       "      <td>1.9360</td>\n",
       "    </tr>\n",
       "    <tr>\n",
       "      <th>70</th>\n",
       "      <td>MASCARA-4</td>\n",
       "      <td>3.1000</td>\n",
       "      <td>1.5300</td>\n",
       "    </tr>\n",
       "    <tr>\n",
       "      <th>42</th>\n",
       "      <td>HD_017156</td>\n",
       "      <td>3.2620</td>\n",
       "      <td>1.0650</td>\n",
       "    </tr>\n",
       "    <tr>\n",
       "      <th>5</th>\n",
       "      <td>CoRoT-18</td>\n",
       "      <td>3.3000</td>\n",
       "      <td>1.1460</td>\n",
       "    </tr>\n",
       "    <tr>\n",
       "      <th>32</th>\n",
       "      <td>HAT-P-34</td>\n",
       "      <td>3.3280</td>\n",
       "      <td>1.1970</td>\n",
       "    </tr>\n",
       "    <tr>\n",
       "      <th>2</th>\n",
       "      <td>CoRoT-02</td>\n",
       "      <td>3.5700</td>\n",
       "      <td>1.4600</td>\n",
       "    </tr>\n",
       "    <tr>\n",
       "      <th>102</th>\n",
       "      <td>WASP-032</td>\n",
       "      <td>3.6000</td>\n",
       "      <td>1.1800</td>\n",
       "    </tr>\n",
       "    <tr>\n",
       "      <th>69</th>\n",
       "      <td>MASCARA-1</td>\n",
       "      <td>3.7000</td>\n",
       "      <td>1.5000</td>\n",
       "    </tr>\n",
       "    <tr>\n",
       "      <th>36</th>\n",
       "      <td>HAT-P-69</td>\n",
       "      <td>3.7300</td>\n",
       "      <td>1.6260</td>\n",
       "    </tr>\n",
       "    <tr>\n",
       "      <th>43</th>\n",
       "      <td>HD_080606</td>\n",
       "      <td>4.1140</td>\n",
       "      <td>1.0030</td>\n",
       "    </tr>\n",
       "    <tr>\n",
       "      <th>22</th>\n",
       "      <td>HAT-P-16</td>\n",
       "      <td>4.1930</td>\n",
       "      <td>1.1900</td>\n",
       "    </tr>\n",
       "    <tr>\n",
       "      <th>58</th>\n",
       "      <td>KELT-24</td>\n",
       "      <td>5.1800</td>\n",
       "      <td>1.2720</td>\n",
       "    </tr>\n",
       "    <tr>\n",
       "      <th>61</th>\n",
       "      <td>Kepler-013</td>\n",
       "      <td>6.0000</td>\n",
       "      <td>1.4060</td>\n",
       "    </tr>\n",
       "    <tr>\n",
       "      <th>25</th>\n",
       "      <td>HAT-P-20</td>\n",
       "      <td>7.2200</td>\n",
       "      <td>1.0250</td>\n",
       "    </tr>\n",
       "    <tr>\n",
       "      <th>88</th>\n",
       "      <td>WASP-014</td>\n",
       "      <td>7.5900</td>\n",
       "      <td>1.2400</td>\n",
       "    </tr>\n",
       "    <tr>\n",
       "      <th>11</th>\n",
       "      <td>HAT-P-02</td>\n",
       "      <td>8.7400</td>\n",
       "      <td>1.1900</td>\n",
       "    </tr>\n",
       "    <tr>\n",
       "      <th>92</th>\n",
       "      <td>WASP-018</td>\n",
       "      <td>10.5200</td>\n",
       "      <td>1.2040</td>\n",
       "    </tr>\n",
       "    <tr>\n",
       "      <th>141</th>\n",
       "      <td>XO-3</td>\n",
       "      <td>11.8300</td>\n",
       "      <td>1.2480</td>\n",
       "    </tr>\n",
       "    <tr>\n",
       "      <th>40</th>\n",
       "      <td>HATS-70</td>\n",
       "      <td>12.9000</td>\n",
       "      <td>1.3840</td>\n",
       "    </tr>\n",
       "    <tr>\n",
       "      <th>3</th>\n",
       "      <td>CoRoT-03</td>\n",
       "      <td>21.9600</td>\n",
       "      <td>1.0370</td>\n",
       "    </tr>\n",
       "    <tr>\n",
       "      <th>50</th>\n",
       "      <td>KELT-01</td>\n",
       "      <td>27.3800</td>\n",
       "      <td>1.1160</td>\n",
       "    </tr>\n",
       "    <tr>\n",
       "      <th>100</th>\n",
       "      <td>WASP-030</td>\n",
       "      <td>62.5000</td>\n",
       "      <td>0.9510</td>\n",
       "    </tr>\n",
       "  </tbody>\n",
       "</table>\n",
       "</div>"
      ],
      "text/plain": [
       "               name     mass  radius\n",
       "8    EPIC_246851721   0.0000  1.0040\n",
       "56          KELT-20   0.0000  1.7350\n",
       "65       Kepler-063   0.0000  0.5440\n",
       "135        WASP-167   0.0000  1.5600\n",
       "37         HAT-P-70   0.0000  1.8700\n",
       "57          KELT-21   0.0000  1.5860\n",
       "55          KELT-19   0.0000  1.9100\n",
       "7            DS_Tuc   0.0000  0.5000\n",
       "0          55_Cnc_e   0.0243  0.1692\n",
       "64      Kepler-030b   0.0289  0.3350\n",
       "41       HD_003167c   0.0308  0.2690\n",
       "63      Kepler-025c   0.0479  0.4654\n",
       "44       HD_106315c   0.0480  0.3880\n",
       "9           GJ_0436   0.0799  0.3660\n",
       "18         HAT-P-11   0.0873  0.3890\n",
       "134        WASP-166   0.1020  0.6300\n",
       "128        WASP-107   0.1190  0.9240\n",
       "60      Kepler-009b   0.1365  0.7360\n",
       "24         HAT-P-18   0.1960  0.9470\n",
       "19         HAT-P-12   0.2010  0.9190\n",
       "116        WASP-069   0.2600  1.0570\n",
       "131        WASP-117   0.2755  1.0210\n",
       "105        WASP-039   0.2810  1.2790\n",
       "136        WASP-174   0.3300  1.4370\n",
       "66      Kepler-089d   0.3330  1.0050\n",
       "45        HD_149026   0.3680  0.8130\n",
       "109        WASP-049   0.3960  1.1980\n",
       "94         WASP-020   0.3960  1.3820\n",
       "51          KELT-06   0.4300  1.1930\n",
       "110        WASP-052   0.4340  1.2530\n",
       "125        WASP-094   0.4520  1.7200\n",
       "91         WASP-017   0.4770  1.9320\n",
       "101        WASP-031   0.4780  1.5490\n",
       "82         WASP-006   0.4850  1.2300\n",
       "85         WASP-011   0.4920  0.9900\n",
       "76           TrES-4   0.4940  1.8380\n",
       "87         WASP-013   0.5120  1.5280\n",
       "10         HAT-P-01   0.5250  1.3190\n",
       "23         HAT-P-17   0.5340  1.0100\n",
       "112        WASP-060   0.5600  1.2250\n",
       "121        WASP-080   0.5620  0.9860\n",
       "114        WASP-062   0.5700  1.3900\n",
       "59       Kepler-008   0.5900  1.3810\n",
       "89         WASP-015   0.5920  1.4080\n",
       "12         HAT-P-03   0.5950  0.9110\n",
       "140            XO-2   0.5970  1.0190\n",
       "97         WASP-025   0.5980  1.2470\n",
       "95         WASP-022   0.6170  1.1990\n",
       "29         HAT-P-27   0.6600  1.0380\n",
       "71          NGTS-02   0.6700  1.5360\n",
       "13         HAT-P-04   0.6800  1.3370\n",
       "28         HAT-P-24   0.6810  1.2430\n",
       "122        WASP-084   0.6870  0.9760\n",
       "30         HAT-P-30   0.7110  1.3400\n",
       "47        HD_209458   0.7140  1.3800\n",
       "48           K2-029   0.7300  1.1900\n",
       "74           TrES-1   0.7610  1.0990\n",
       "17         HAT-P-09   0.7780  1.3800\n",
       "137        WASP-180   0.8000  1.2900\n",
       "31         HAT-P-32   0.8000  1.8070\n",
       "34         HAT-P-41   0.8000  1.6850\n",
       "90         WASP-016   0.8320  1.2180\n",
       "77         WASP-001   0.8540  1.4830\n",
       "119        WASP-078   0.8600  2.0600\n",
       "120        WASP-079   0.8600  1.5300\n",
       "99         WASP-028   0.8890  1.2190\n",
       "78         WASP-002   0.8920  1.0600\n",
       "20         HAT-P-13   0.9060  1.4870\n",
       "129        WASP-109   0.9100  1.4430\n",
       "106        WASP-041   0.9770  1.1780\n",
       "83         WASP-007   0.9800  1.3740\n",
       "139        WASP-190   1.0000  1.1500\n",
       "98         WASP-026   1.0200  1.2160\n",
       "1          CoRoT-01   1.0300  1.5510\n",
       "14         HAT-P-06   1.0630  1.3950\n",
       "39          HATS-14   1.0710  1.0390\n",
       "38          HATS-03   1.0710  1.3810\n",
       "6          CoRoT-19   1.0900  1.1900\n",
       "68       Kepler-448   1.1000  1.4400\n",
       "96         WASP-024   1.1090  1.3030\n",
       "93         WASP-019   1.1390  1.4100\n",
       "108       WASP-047b   1.1420  1.1230\n",
       "46        HD_189733   1.1500  1.1510\n",
       "132        WASP-121   1.1830  1.8650\n",
       "75           TrES-2   1.2060  1.1930\n",
       "80         WASP-004   1.2490  1.3640\n",
       "123        WASP-085   1.2650  1.2400\n",
       "16         HAT-P-08   1.2750  1.3210\n",
       "52          KELT-07   1.2800  1.5330\n",
       "72          Qatar-1   1.2940  1.1430\n",
       "54          KELT-17   1.3100  1.5250\n",
       "133        WASP-134   1.4120  0.9880\n",
       "67       Kepler-420   1.4500  0.9400\n",
       "118        WASP-072   1.4610  1.2700\n",
       "86         WASP-012   1.4700  1.9000\n",
       "127        WASP-103   1.4700  1.6460\n",
       "81         WASP-005   1.5950  1.1750\n",
       "142            XO-4   1.6150  1.3170\n",
       "49           K2-034   1.6490  1.2170\n",
       "79         WASP-003   1.7700  1.3460\n",
       "130        WASP-111   1.8300  1.4430\n",
       "33         HAT-P-36   1.8520  1.3040\n",
       "15         HAT-P-07   1.8700  1.5260\n",
       "143            XO-6   1.9000  2.0700\n",
       "126        WASP-100   2.0300  1.4000\n",
       "107        WASP-043   2.0340  1.0360\n",
       "113        WASP-061   2.0600  1.2200\n",
       "27         HAT-P-23   2.0700  1.2240\n",
       "138        WASP-189   2.1300  1.3740\n",
       "111        WASP-053   2.1320  1.0740\n",
       "103        WASP-033   2.1600  1.6790\n",
       "124        WASP-087   2.1800  1.3850\n",
       "35         HAT-P-56   2.1800  1.4660\n",
       "26         HAT-P-22   2.1920  1.0600\n",
       "84         WASP-008   2.2160  1.1650\n",
       "117        WASP-071   2.2420  1.4600\n",
       "21         HAT-P-14   2.2710  1.2190\n",
       "115        WASP-066   2.3200  1.3900\n",
       "4          CoRoT-11   2.3400  1.4260\n",
       "62       Kepler-017   2.3400  1.3100\n",
       "73          Qatar-2   2.4660  1.1150\n",
       "104        WASP-038   2.6910  1.0940\n",
       "53          KELT-09   2.8800  1.9360\n",
       "70        MASCARA-4   3.1000  1.5300\n",
       "42        HD_017156   3.2620  1.0650\n",
       "5          CoRoT-18   3.3000  1.1460\n",
       "32         HAT-P-34   3.3280  1.1970\n",
       "2          CoRoT-02   3.5700  1.4600\n",
       "102        WASP-032   3.6000  1.1800\n",
       "69        MASCARA-1   3.7000  1.5000\n",
       "36         HAT-P-69   3.7300  1.6260\n",
       "43        HD_080606   4.1140  1.0030\n",
       "22         HAT-P-16   4.1930  1.1900\n",
       "58          KELT-24   5.1800  1.2720\n",
       "61       Kepler-013   6.0000  1.4060\n",
       "25         HAT-P-20   7.2200  1.0250\n",
       "88         WASP-014   7.5900  1.2400\n",
       "11         HAT-P-02   8.7400  1.1900\n",
       "92         WASP-018  10.5200  1.2040\n",
       "141            XO-3  11.8300  1.2480\n",
       "40          HATS-70  12.9000  1.3840\n",
       "3          CoRoT-03  21.9600  1.0370\n",
       "50          KELT-01  27.3800  1.1160\n",
       "100        WASP-030  62.5000  0.9510"
      ]
     },
     "execution_count": 98,
     "metadata": {},
     "output_type": "execute_result"
    }
   ],
   "source": [
    "pd.set_option('display.max_rows', 144)\n",
    "df.sort_values(by=['mass'])"
   ]
  },
  {
   "cell_type": "code",
   "execution_count": 99,
   "metadata": {},
   "outputs": [],
   "source": [
    "df.set_index(\"name\", inplace=True)"
   ]
  },
  {
   "cell_type": "code",
   "execution_count": 100,
   "metadata": {},
   "outputs": [
    {
     "data": {
      "text/html": [
       "<div>\n",
       "<style scoped>\n",
       "    .dataframe tbody tr th:only-of-type {\n",
       "        vertical-align: middle;\n",
       "    }\n",
       "\n",
       "    .dataframe tbody tr th {\n",
       "        vertical-align: top;\n",
       "    }\n",
       "\n",
       "    .dataframe thead th {\n",
       "        text-align: right;\n",
       "    }\n",
       "</style>\n",
       "<table border=\"1\" class=\"dataframe\">\n",
       "  <thead>\n",
       "    <tr style=\"text-align: right;\">\n",
       "      <th></th>\n",
       "      <th>mass</th>\n",
       "      <th>radius</th>\n",
       "    </tr>\n",
       "    <tr>\n",
       "      <th>name</th>\n",
       "      <th></th>\n",
       "      <th></th>\n",
       "    </tr>\n",
       "  </thead>\n",
       "  <tbody>\n",
       "    <tr>\n",
       "      <th>EPIC_246851721</th>\n",
       "      <td>0.0000</td>\n",
       "      <td>1.0040</td>\n",
       "    </tr>\n",
       "    <tr>\n",
       "      <th>KELT-20</th>\n",
       "      <td>0.0000</td>\n",
       "      <td>1.7350</td>\n",
       "    </tr>\n",
       "    <tr>\n",
       "      <th>Kepler-063</th>\n",
       "      <td>0.0000</td>\n",
       "      <td>0.5440</td>\n",
       "    </tr>\n",
       "    <tr>\n",
       "      <th>WASP-167</th>\n",
       "      <td>0.0000</td>\n",
       "      <td>1.5600</td>\n",
       "    </tr>\n",
       "    <tr>\n",
       "      <th>HAT-P-70</th>\n",
       "      <td>0.0000</td>\n",
       "      <td>1.8700</td>\n",
       "    </tr>\n",
       "    <tr>\n",
       "      <th>KELT-21</th>\n",
       "      <td>0.0000</td>\n",
       "      <td>1.5860</td>\n",
       "    </tr>\n",
       "    <tr>\n",
       "      <th>KELT-19</th>\n",
       "      <td>0.0000</td>\n",
       "      <td>1.9100</td>\n",
       "    </tr>\n",
       "    <tr>\n",
       "      <th>DS_Tuc</th>\n",
       "      <td>0.0000</td>\n",
       "      <td>0.5000</td>\n",
       "    </tr>\n",
       "    <tr>\n",
       "      <th>55_Cnc_e</th>\n",
       "      <td>0.0243</td>\n",
       "      <td>0.1692</td>\n",
       "    </tr>\n",
       "    <tr>\n",
       "      <th>Kepler-030b</th>\n",
       "      <td>0.0289</td>\n",
       "      <td>0.3350</td>\n",
       "    </tr>\n",
       "    <tr>\n",
       "      <th>HD_003167c</th>\n",
       "      <td>0.0308</td>\n",
       "      <td>0.2690</td>\n",
       "    </tr>\n",
       "    <tr>\n",
       "      <th>Kepler-025c</th>\n",
       "      <td>0.0479</td>\n",
       "      <td>0.4654</td>\n",
       "    </tr>\n",
       "    <tr>\n",
       "      <th>HD_106315c</th>\n",
       "      <td>0.0480</td>\n",
       "      <td>0.3880</td>\n",
       "    </tr>\n",
       "    <tr>\n",
       "      <th>GJ_0436</th>\n",
       "      <td>0.0799</td>\n",
       "      <td>0.3660</td>\n",
       "    </tr>\n",
       "    <tr>\n",
       "      <th>HAT-P-11</th>\n",
       "      <td>0.0873</td>\n",
       "      <td>0.3890</td>\n",
       "    </tr>\n",
       "    <tr>\n",
       "      <th>WASP-166</th>\n",
       "      <td>0.1020</td>\n",
       "      <td>0.6300</td>\n",
       "    </tr>\n",
       "    <tr>\n",
       "      <th>WASP-107</th>\n",
       "      <td>0.1190</td>\n",
       "      <td>0.9240</td>\n",
       "    </tr>\n",
       "    <tr>\n",
       "      <th>Kepler-009b</th>\n",
       "      <td>0.1365</td>\n",
       "      <td>0.7360</td>\n",
       "    </tr>\n",
       "    <tr>\n",
       "      <th>HAT-P-18</th>\n",
       "      <td>0.1960</td>\n",
       "      <td>0.9470</td>\n",
       "    </tr>\n",
       "    <tr>\n",
       "      <th>HAT-P-12</th>\n",
       "      <td>0.2010</td>\n",
       "      <td>0.9190</td>\n",
       "    </tr>\n",
       "    <tr>\n",
       "      <th>WASP-069</th>\n",
       "      <td>0.2600</td>\n",
       "      <td>1.0570</td>\n",
       "    </tr>\n",
       "    <tr>\n",
       "      <th>WASP-117</th>\n",
       "      <td>0.2755</td>\n",
       "      <td>1.0210</td>\n",
       "    </tr>\n",
       "    <tr>\n",
       "      <th>WASP-039</th>\n",
       "      <td>0.2810</td>\n",
       "      <td>1.2790</td>\n",
       "    </tr>\n",
       "    <tr>\n",
       "      <th>WASP-174</th>\n",
       "      <td>0.3300</td>\n",
       "      <td>1.4370</td>\n",
       "    </tr>\n",
       "    <tr>\n",
       "      <th>Kepler-089d</th>\n",
       "      <td>0.3330</td>\n",
       "      <td>1.0050</td>\n",
       "    </tr>\n",
       "    <tr>\n",
       "      <th>HD_149026</th>\n",
       "      <td>0.3680</td>\n",
       "      <td>0.8130</td>\n",
       "    </tr>\n",
       "    <tr>\n",
       "      <th>WASP-049</th>\n",
       "      <td>0.3960</td>\n",
       "      <td>1.1980</td>\n",
       "    </tr>\n",
       "    <tr>\n",
       "      <th>WASP-020</th>\n",
       "      <td>0.3960</td>\n",
       "      <td>1.3820</td>\n",
       "    </tr>\n",
       "    <tr>\n",
       "      <th>KELT-06</th>\n",
       "      <td>0.4300</td>\n",
       "      <td>1.1930</td>\n",
       "    </tr>\n",
       "    <tr>\n",
       "      <th>WASP-052</th>\n",
       "      <td>0.4340</td>\n",
       "      <td>1.2530</td>\n",
       "    </tr>\n",
       "    <tr>\n",
       "      <th>WASP-094</th>\n",
       "      <td>0.4520</td>\n",
       "      <td>1.7200</td>\n",
       "    </tr>\n",
       "    <tr>\n",
       "      <th>WASP-017</th>\n",
       "      <td>0.4770</td>\n",
       "      <td>1.9320</td>\n",
       "    </tr>\n",
       "    <tr>\n",
       "      <th>WASP-031</th>\n",
       "      <td>0.4780</td>\n",
       "      <td>1.5490</td>\n",
       "    </tr>\n",
       "    <tr>\n",
       "      <th>WASP-006</th>\n",
       "      <td>0.4850</td>\n",
       "      <td>1.2300</td>\n",
       "    </tr>\n",
       "    <tr>\n",
       "      <th>WASP-011</th>\n",
       "      <td>0.4920</td>\n",
       "      <td>0.9900</td>\n",
       "    </tr>\n",
       "    <tr>\n",
       "      <th>TrES-4</th>\n",
       "      <td>0.4940</td>\n",
       "      <td>1.8380</td>\n",
       "    </tr>\n",
       "    <tr>\n",
       "      <th>WASP-013</th>\n",
       "      <td>0.5120</td>\n",
       "      <td>1.5280</td>\n",
       "    </tr>\n",
       "    <tr>\n",
       "      <th>HAT-P-01</th>\n",
       "      <td>0.5250</td>\n",
       "      <td>1.3190</td>\n",
       "    </tr>\n",
       "    <tr>\n",
       "      <th>HAT-P-17</th>\n",
       "      <td>0.5340</td>\n",
       "      <td>1.0100</td>\n",
       "    </tr>\n",
       "    <tr>\n",
       "      <th>WASP-060</th>\n",
       "      <td>0.5600</td>\n",
       "      <td>1.2250</td>\n",
       "    </tr>\n",
       "    <tr>\n",
       "      <th>WASP-080</th>\n",
       "      <td>0.5620</td>\n",
       "      <td>0.9860</td>\n",
       "    </tr>\n",
       "    <tr>\n",
       "      <th>WASP-062</th>\n",
       "      <td>0.5700</td>\n",
       "      <td>1.3900</td>\n",
       "    </tr>\n",
       "    <tr>\n",
       "      <th>Kepler-008</th>\n",
       "      <td>0.5900</td>\n",
       "      <td>1.3810</td>\n",
       "    </tr>\n",
       "    <tr>\n",
       "      <th>WASP-015</th>\n",
       "      <td>0.5920</td>\n",
       "      <td>1.4080</td>\n",
       "    </tr>\n",
       "    <tr>\n",
       "      <th>HAT-P-03</th>\n",
       "      <td>0.5950</td>\n",
       "      <td>0.9110</td>\n",
       "    </tr>\n",
       "    <tr>\n",
       "      <th>XO-2</th>\n",
       "      <td>0.5970</td>\n",
       "      <td>1.0190</td>\n",
       "    </tr>\n",
       "    <tr>\n",
       "      <th>WASP-025</th>\n",
       "      <td>0.5980</td>\n",
       "      <td>1.2470</td>\n",
       "    </tr>\n",
       "    <tr>\n",
       "      <th>WASP-022</th>\n",
       "      <td>0.6170</td>\n",
       "      <td>1.1990</td>\n",
       "    </tr>\n",
       "    <tr>\n",
       "      <th>HAT-P-27</th>\n",
       "      <td>0.6600</td>\n",
       "      <td>1.0380</td>\n",
       "    </tr>\n",
       "    <tr>\n",
       "      <th>NGTS-02</th>\n",
       "      <td>0.6700</td>\n",
       "      <td>1.5360</td>\n",
       "    </tr>\n",
       "    <tr>\n",
       "      <th>HAT-P-04</th>\n",
       "      <td>0.6800</td>\n",
       "      <td>1.3370</td>\n",
       "    </tr>\n",
       "    <tr>\n",
       "      <th>HAT-P-24</th>\n",
       "      <td>0.6810</td>\n",
       "      <td>1.2430</td>\n",
       "    </tr>\n",
       "    <tr>\n",
       "      <th>WASP-084</th>\n",
       "      <td>0.6870</td>\n",
       "      <td>0.9760</td>\n",
       "    </tr>\n",
       "    <tr>\n",
       "      <th>HAT-P-30</th>\n",
       "      <td>0.7110</td>\n",
       "      <td>1.3400</td>\n",
       "    </tr>\n",
       "    <tr>\n",
       "      <th>HD_209458</th>\n",
       "      <td>0.7140</td>\n",
       "      <td>1.3800</td>\n",
       "    </tr>\n",
       "    <tr>\n",
       "      <th>K2-029</th>\n",
       "      <td>0.7300</td>\n",
       "      <td>1.1900</td>\n",
       "    </tr>\n",
       "    <tr>\n",
       "      <th>TrES-1</th>\n",
       "      <td>0.7610</td>\n",
       "      <td>1.0990</td>\n",
       "    </tr>\n",
       "    <tr>\n",
       "      <th>HAT-P-09</th>\n",
       "      <td>0.7780</td>\n",
       "      <td>1.3800</td>\n",
       "    </tr>\n",
       "    <tr>\n",
       "      <th>WASP-180</th>\n",
       "      <td>0.8000</td>\n",
       "      <td>1.2900</td>\n",
       "    </tr>\n",
       "    <tr>\n",
       "      <th>HAT-P-32</th>\n",
       "      <td>0.8000</td>\n",
       "      <td>1.8070</td>\n",
       "    </tr>\n",
       "    <tr>\n",
       "      <th>HAT-P-41</th>\n",
       "      <td>0.8000</td>\n",
       "      <td>1.6850</td>\n",
       "    </tr>\n",
       "    <tr>\n",
       "      <th>WASP-016</th>\n",
       "      <td>0.8320</td>\n",
       "      <td>1.2180</td>\n",
       "    </tr>\n",
       "    <tr>\n",
       "      <th>WASP-001</th>\n",
       "      <td>0.8540</td>\n",
       "      <td>1.4830</td>\n",
       "    </tr>\n",
       "    <tr>\n",
       "      <th>WASP-078</th>\n",
       "      <td>0.8600</td>\n",
       "      <td>2.0600</td>\n",
       "    </tr>\n",
       "    <tr>\n",
       "      <th>WASP-079</th>\n",
       "      <td>0.8600</td>\n",
       "      <td>1.5300</td>\n",
       "    </tr>\n",
       "    <tr>\n",
       "      <th>WASP-028</th>\n",
       "      <td>0.8890</td>\n",
       "      <td>1.2190</td>\n",
       "    </tr>\n",
       "    <tr>\n",
       "      <th>WASP-002</th>\n",
       "      <td>0.8920</td>\n",
       "      <td>1.0600</td>\n",
       "    </tr>\n",
       "    <tr>\n",
       "      <th>HAT-P-13</th>\n",
       "      <td>0.9060</td>\n",
       "      <td>1.4870</td>\n",
       "    </tr>\n",
       "    <tr>\n",
       "      <th>WASP-109</th>\n",
       "      <td>0.9100</td>\n",
       "      <td>1.4430</td>\n",
       "    </tr>\n",
       "    <tr>\n",
       "      <th>WASP-041</th>\n",
       "      <td>0.9770</td>\n",
       "      <td>1.1780</td>\n",
       "    </tr>\n",
       "    <tr>\n",
       "      <th>WASP-007</th>\n",
       "      <td>0.9800</td>\n",
       "      <td>1.3740</td>\n",
       "    </tr>\n",
       "    <tr>\n",
       "      <th>WASP-190</th>\n",
       "      <td>1.0000</td>\n",
       "      <td>1.1500</td>\n",
       "    </tr>\n",
       "    <tr>\n",
       "      <th>WASP-026</th>\n",
       "      <td>1.0200</td>\n",
       "      <td>1.2160</td>\n",
       "    </tr>\n",
       "    <tr>\n",
       "      <th>CoRoT-01</th>\n",
       "      <td>1.0300</td>\n",
       "      <td>1.5510</td>\n",
       "    </tr>\n",
       "    <tr>\n",
       "      <th>HAT-P-06</th>\n",
       "      <td>1.0630</td>\n",
       "      <td>1.3950</td>\n",
       "    </tr>\n",
       "    <tr>\n",
       "      <th>HATS-14</th>\n",
       "      <td>1.0710</td>\n",
       "      <td>1.0390</td>\n",
       "    </tr>\n",
       "    <tr>\n",
       "      <th>HATS-03</th>\n",
       "      <td>1.0710</td>\n",
       "      <td>1.3810</td>\n",
       "    </tr>\n",
       "    <tr>\n",
       "      <th>CoRoT-19</th>\n",
       "      <td>1.0900</td>\n",
       "      <td>1.1900</td>\n",
       "    </tr>\n",
       "    <tr>\n",
       "      <th>Kepler-448</th>\n",
       "      <td>1.1000</td>\n",
       "      <td>1.4400</td>\n",
       "    </tr>\n",
       "    <tr>\n",
       "      <th>WASP-024</th>\n",
       "      <td>1.1090</td>\n",
       "      <td>1.3030</td>\n",
       "    </tr>\n",
       "    <tr>\n",
       "      <th>WASP-019</th>\n",
       "      <td>1.1390</td>\n",
       "      <td>1.4100</td>\n",
       "    </tr>\n",
       "    <tr>\n",
       "      <th>WASP-047b</th>\n",
       "      <td>1.1420</td>\n",
       "      <td>1.1230</td>\n",
       "    </tr>\n",
       "    <tr>\n",
       "      <th>HD_189733</th>\n",
       "      <td>1.1500</td>\n",
       "      <td>1.1510</td>\n",
       "    </tr>\n",
       "    <tr>\n",
       "      <th>WASP-121</th>\n",
       "      <td>1.1830</td>\n",
       "      <td>1.8650</td>\n",
       "    </tr>\n",
       "    <tr>\n",
       "      <th>TrES-2</th>\n",
       "      <td>1.2060</td>\n",
       "      <td>1.1930</td>\n",
       "    </tr>\n",
       "    <tr>\n",
       "      <th>WASP-004</th>\n",
       "      <td>1.2490</td>\n",
       "      <td>1.3640</td>\n",
       "    </tr>\n",
       "    <tr>\n",
       "      <th>WASP-085</th>\n",
       "      <td>1.2650</td>\n",
       "      <td>1.2400</td>\n",
       "    </tr>\n",
       "    <tr>\n",
       "      <th>HAT-P-08</th>\n",
       "      <td>1.2750</td>\n",
       "      <td>1.3210</td>\n",
       "    </tr>\n",
       "    <tr>\n",
       "      <th>KELT-07</th>\n",
       "      <td>1.2800</td>\n",
       "      <td>1.5330</td>\n",
       "    </tr>\n",
       "    <tr>\n",
       "      <th>Qatar-1</th>\n",
       "      <td>1.2940</td>\n",
       "      <td>1.1430</td>\n",
       "    </tr>\n",
       "    <tr>\n",
       "      <th>KELT-17</th>\n",
       "      <td>1.3100</td>\n",
       "      <td>1.5250</td>\n",
       "    </tr>\n",
       "    <tr>\n",
       "      <th>WASP-134</th>\n",
       "      <td>1.4120</td>\n",
       "      <td>0.9880</td>\n",
       "    </tr>\n",
       "    <tr>\n",
       "      <th>Kepler-420</th>\n",
       "      <td>1.4500</td>\n",
       "      <td>0.9400</td>\n",
       "    </tr>\n",
       "    <tr>\n",
       "      <th>WASP-072</th>\n",
       "      <td>1.4610</td>\n",
       "      <td>1.2700</td>\n",
       "    </tr>\n",
       "    <tr>\n",
       "      <th>WASP-012</th>\n",
       "      <td>1.4700</td>\n",
       "      <td>1.9000</td>\n",
       "    </tr>\n",
       "    <tr>\n",
       "      <th>WASP-103</th>\n",
       "      <td>1.4700</td>\n",
       "      <td>1.6460</td>\n",
       "    </tr>\n",
       "    <tr>\n",
       "      <th>WASP-005</th>\n",
       "      <td>1.5950</td>\n",
       "      <td>1.1750</td>\n",
       "    </tr>\n",
       "    <tr>\n",
       "      <th>XO-4</th>\n",
       "      <td>1.6150</td>\n",
       "      <td>1.3170</td>\n",
       "    </tr>\n",
       "    <tr>\n",
       "      <th>K2-034</th>\n",
       "      <td>1.6490</td>\n",
       "      <td>1.2170</td>\n",
       "    </tr>\n",
       "    <tr>\n",
       "      <th>WASP-003</th>\n",
       "      <td>1.7700</td>\n",
       "      <td>1.3460</td>\n",
       "    </tr>\n",
       "    <tr>\n",
       "      <th>WASP-111</th>\n",
       "      <td>1.8300</td>\n",
       "      <td>1.4430</td>\n",
       "    </tr>\n",
       "    <tr>\n",
       "      <th>HAT-P-36</th>\n",
       "      <td>1.8520</td>\n",
       "      <td>1.3040</td>\n",
       "    </tr>\n",
       "    <tr>\n",
       "      <th>HAT-P-07</th>\n",
       "      <td>1.8700</td>\n",
       "      <td>1.5260</td>\n",
       "    </tr>\n",
       "    <tr>\n",
       "      <th>XO-6</th>\n",
       "      <td>1.9000</td>\n",
       "      <td>2.0700</td>\n",
       "    </tr>\n",
       "    <tr>\n",
       "      <th>WASP-100</th>\n",
       "      <td>2.0300</td>\n",
       "      <td>1.4000</td>\n",
       "    </tr>\n",
       "    <tr>\n",
       "      <th>WASP-043</th>\n",
       "      <td>2.0340</td>\n",
       "      <td>1.0360</td>\n",
       "    </tr>\n",
       "    <tr>\n",
       "      <th>WASP-061</th>\n",
       "      <td>2.0600</td>\n",
       "      <td>1.2200</td>\n",
       "    </tr>\n",
       "    <tr>\n",
       "      <th>HAT-P-23</th>\n",
       "      <td>2.0700</td>\n",
       "      <td>1.2240</td>\n",
       "    </tr>\n",
       "    <tr>\n",
       "      <th>WASP-189</th>\n",
       "      <td>2.1300</td>\n",
       "      <td>1.3740</td>\n",
       "    </tr>\n",
       "    <tr>\n",
       "      <th>WASP-053</th>\n",
       "      <td>2.1320</td>\n",
       "      <td>1.0740</td>\n",
       "    </tr>\n",
       "    <tr>\n",
       "      <th>WASP-033</th>\n",
       "      <td>2.1600</td>\n",
       "      <td>1.6790</td>\n",
       "    </tr>\n",
       "    <tr>\n",
       "      <th>WASP-087</th>\n",
       "      <td>2.1800</td>\n",
       "      <td>1.3850</td>\n",
       "    </tr>\n",
       "    <tr>\n",
       "      <th>HAT-P-56</th>\n",
       "      <td>2.1800</td>\n",
       "      <td>1.4660</td>\n",
       "    </tr>\n",
       "    <tr>\n",
       "      <th>HAT-P-22</th>\n",
       "      <td>2.1920</td>\n",
       "      <td>1.0600</td>\n",
       "    </tr>\n",
       "    <tr>\n",
       "      <th>WASP-008</th>\n",
       "      <td>2.2160</td>\n",
       "      <td>1.1650</td>\n",
       "    </tr>\n",
       "    <tr>\n",
       "      <th>WASP-071</th>\n",
       "      <td>2.2420</td>\n",
       "      <td>1.4600</td>\n",
       "    </tr>\n",
       "    <tr>\n",
       "      <th>HAT-P-14</th>\n",
       "      <td>2.2710</td>\n",
       "      <td>1.2190</td>\n",
       "    </tr>\n",
       "    <tr>\n",
       "      <th>WASP-066</th>\n",
       "      <td>2.3200</td>\n",
       "      <td>1.3900</td>\n",
       "    </tr>\n",
       "    <tr>\n",
       "      <th>CoRoT-11</th>\n",
       "      <td>2.3400</td>\n",
       "      <td>1.4260</td>\n",
       "    </tr>\n",
       "    <tr>\n",
       "      <th>Kepler-017</th>\n",
       "      <td>2.3400</td>\n",
       "      <td>1.3100</td>\n",
       "    </tr>\n",
       "    <tr>\n",
       "      <th>Qatar-2</th>\n",
       "      <td>2.4660</td>\n",
       "      <td>1.1150</td>\n",
       "    </tr>\n",
       "    <tr>\n",
       "      <th>WASP-038</th>\n",
       "      <td>2.6910</td>\n",
       "      <td>1.0940</td>\n",
       "    </tr>\n",
       "    <tr>\n",
       "      <th>KELT-09</th>\n",
       "      <td>2.8800</td>\n",
       "      <td>1.9360</td>\n",
       "    </tr>\n",
       "    <tr>\n",
       "      <th>MASCARA-4</th>\n",
       "      <td>3.1000</td>\n",
       "      <td>1.5300</td>\n",
       "    </tr>\n",
       "    <tr>\n",
       "      <th>HD_017156</th>\n",
       "      <td>3.2620</td>\n",
       "      <td>1.0650</td>\n",
       "    </tr>\n",
       "    <tr>\n",
       "      <th>CoRoT-18</th>\n",
       "      <td>3.3000</td>\n",
       "      <td>1.1460</td>\n",
       "    </tr>\n",
       "    <tr>\n",
       "      <th>HAT-P-34</th>\n",
       "      <td>3.3280</td>\n",
       "      <td>1.1970</td>\n",
       "    </tr>\n",
       "    <tr>\n",
       "      <th>CoRoT-02</th>\n",
       "      <td>3.5700</td>\n",
       "      <td>1.4600</td>\n",
       "    </tr>\n",
       "    <tr>\n",
       "      <th>WASP-032</th>\n",
       "      <td>3.6000</td>\n",
       "      <td>1.1800</td>\n",
       "    </tr>\n",
       "    <tr>\n",
       "      <th>MASCARA-1</th>\n",
       "      <td>3.7000</td>\n",
       "      <td>1.5000</td>\n",
       "    </tr>\n",
       "    <tr>\n",
       "      <th>HAT-P-69</th>\n",
       "      <td>3.7300</td>\n",
       "      <td>1.6260</td>\n",
       "    </tr>\n",
       "    <tr>\n",
       "      <th>HD_080606</th>\n",
       "      <td>4.1140</td>\n",
       "      <td>1.0030</td>\n",
       "    </tr>\n",
       "    <tr>\n",
       "      <th>HAT-P-16</th>\n",
       "      <td>4.1930</td>\n",
       "      <td>1.1900</td>\n",
       "    </tr>\n",
       "    <tr>\n",
       "      <th>KELT-24</th>\n",
       "      <td>5.1800</td>\n",
       "      <td>1.2720</td>\n",
       "    </tr>\n",
       "    <tr>\n",
       "      <th>Kepler-013</th>\n",
       "      <td>6.0000</td>\n",
       "      <td>1.4060</td>\n",
       "    </tr>\n",
       "    <tr>\n",
       "      <th>HAT-P-20</th>\n",
       "      <td>7.2200</td>\n",
       "      <td>1.0250</td>\n",
       "    </tr>\n",
       "    <tr>\n",
       "      <th>WASP-014</th>\n",
       "      <td>7.5900</td>\n",
       "      <td>1.2400</td>\n",
       "    </tr>\n",
       "    <tr>\n",
       "      <th>HAT-P-02</th>\n",
       "      <td>8.7400</td>\n",
       "      <td>1.1900</td>\n",
       "    </tr>\n",
       "    <tr>\n",
       "      <th>WASP-018</th>\n",
       "      <td>10.5200</td>\n",
       "      <td>1.2040</td>\n",
       "    </tr>\n",
       "    <tr>\n",
       "      <th>XO-3</th>\n",
       "      <td>11.8300</td>\n",
       "      <td>1.2480</td>\n",
       "    </tr>\n",
       "    <tr>\n",
       "      <th>HATS-70</th>\n",
       "      <td>12.9000</td>\n",
       "      <td>1.3840</td>\n",
       "    </tr>\n",
       "    <tr>\n",
       "      <th>CoRoT-03</th>\n",
       "      <td>21.9600</td>\n",
       "      <td>1.0370</td>\n",
       "    </tr>\n",
       "    <tr>\n",
       "      <th>KELT-01</th>\n",
       "      <td>27.3800</td>\n",
       "      <td>1.1160</td>\n",
       "    </tr>\n",
       "    <tr>\n",
       "      <th>WASP-030</th>\n",
       "      <td>62.5000</td>\n",
       "      <td>0.9510</td>\n",
       "    </tr>\n",
       "  </tbody>\n",
       "</table>\n",
       "</div>"
      ],
      "text/plain": [
       "                   mass  radius\n",
       "name                           \n",
       "EPIC_246851721   0.0000  1.0040\n",
       "KELT-20          0.0000  1.7350\n",
       "Kepler-063       0.0000  0.5440\n",
       "WASP-167         0.0000  1.5600\n",
       "HAT-P-70         0.0000  1.8700\n",
       "KELT-21          0.0000  1.5860\n",
       "KELT-19          0.0000  1.9100\n",
       "DS_Tuc           0.0000  0.5000\n",
       "55_Cnc_e         0.0243  0.1692\n",
       "Kepler-030b      0.0289  0.3350\n",
       "HD_003167c       0.0308  0.2690\n",
       "Kepler-025c      0.0479  0.4654\n",
       "HD_106315c       0.0480  0.3880\n",
       "GJ_0436          0.0799  0.3660\n",
       "HAT-P-11         0.0873  0.3890\n",
       "WASP-166         0.1020  0.6300\n",
       "WASP-107         0.1190  0.9240\n",
       "Kepler-009b      0.1365  0.7360\n",
       "HAT-P-18         0.1960  0.9470\n",
       "HAT-P-12         0.2010  0.9190\n",
       "WASP-069         0.2600  1.0570\n",
       "WASP-117         0.2755  1.0210\n",
       "WASP-039         0.2810  1.2790\n",
       "WASP-174         0.3300  1.4370\n",
       "Kepler-089d      0.3330  1.0050\n",
       "HD_149026        0.3680  0.8130\n",
       "WASP-049         0.3960  1.1980\n",
       "WASP-020         0.3960  1.3820\n",
       "KELT-06          0.4300  1.1930\n",
       "WASP-052         0.4340  1.2530\n",
       "WASP-094         0.4520  1.7200\n",
       "WASP-017         0.4770  1.9320\n",
       "WASP-031         0.4780  1.5490\n",
       "WASP-006         0.4850  1.2300\n",
       "WASP-011         0.4920  0.9900\n",
       "TrES-4           0.4940  1.8380\n",
       "WASP-013         0.5120  1.5280\n",
       "HAT-P-01         0.5250  1.3190\n",
       "HAT-P-17         0.5340  1.0100\n",
       "WASP-060         0.5600  1.2250\n",
       "WASP-080         0.5620  0.9860\n",
       "WASP-062         0.5700  1.3900\n",
       "Kepler-008       0.5900  1.3810\n",
       "WASP-015         0.5920  1.4080\n",
       "HAT-P-03         0.5950  0.9110\n",
       "XO-2             0.5970  1.0190\n",
       "WASP-025         0.5980  1.2470\n",
       "WASP-022         0.6170  1.1990\n",
       "HAT-P-27         0.6600  1.0380\n",
       "NGTS-02          0.6700  1.5360\n",
       "HAT-P-04         0.6800  1.3370\n",
       "HAT-P-24         0.6810  1.2430\n",
       "WASP-084         0.6870  0.9760\n",
       "HAT-P-30         0.7110  1.3400\n",
       "HD_209458        0.7140  1.3800\n",
       "K2-029           0.7300  1.1900\n",
       "TrES-1           0.7610  1.0990\n",
       "HAT-P-09         0.7780  1.3800\n",
       "WASP-180         0.8000  1.2900\n",
       "HAT-P-32         0.8000  1.8070\n",
       "HAT-P-41         0.8000  1.6850\n",
       "WASP-016         0.8320  1.2180\n",
       "WASP-001         0.8540  1.4830\n",
       "WASP-078         0.8600  2.0600\n",
       "WASP-079         0.8600  1.5300\n",
       "WASP-028         0.8890  1.2190\n",
       "WASP-002         0.8920  1.0600\n",
       "HAT-P-13         0.9060  1.4870\n",
       "WASP-109         0.9100  1.4430\n",
       "WASP-041         0.9770  1.1780\n",
       "WASP-007         0.9800  1.3740\n",
       "WASP-190         1.0000  1.1500\n",
       "WASP-026         1.0200  1.2160\n",
       "CoRoT-01         1.0300  1.5510\n",
       "HAT-P-06         1.0630  1.3950\n",
       "HATS-14          1.0710  1.0390\n",
       "HATS-03          1.0710  1.3810\n",
       "CoRoT-19         1.0900  1.1900\n",
       "Kepler-448       1.1000  1.4400\n",
       "WASP-024         1.1090  1.3030\n",
       "WASP-019         1.1390  1.4100\n",
       "WASP-047b        1.1420  1.1230\n",
       "HD_189733        1.1500  1.1510\n",
       "WASP-121         1.1830  1.8650\n",
       "TrES-2           1.2060  1.1930\n",
       "WASP-004         1.2490  1.3640\n",
       "WASP-085         1.2650  1.2400\n",
       "HAT-P-08         1.2750  1.3210\n",
       "KELT-07          1.2800  1.5330\n",
       "Qatar-1          1.2940  1.1430\n",
       "KELT-17          1.3100  1.5250\n",
       "WASP-134         1.4120  0.9880\n",
       "Kepler-420       1.4500  0.9400\n",
       "WASP-072         1.4610  1.2700\n",
       "WASP-012         1.4700  1.9000\n",
       "WASP-103         1.4700  1.6460\n",
       "WASP-005         1.5950  1.1750\n",
       "XO-4             1.6150  1.3170\n",
       "K2-034           1.6490  1.2170\n",
       "WASP-003         1.7700  1.3460\n",
       "WASP-111         1.8300  1.4430\n",
       "HAT-P-36         1.8520  1.3040\n",
       "HAT-P-07         1.8700  1.5260\n",
       "XO-6             1.9000  2.0700\n",
       "WASP-100         2.0300  1.4000\n",
       "WASP-043         2.0340  1.0360\n",
       "WASP-061         2.0600  1.2200\n",
       "HAT-P-23         2.0700  1.2240\n",
       "WASP-189         2.1300  1.3740\n",
       "WASP-053         2.1320  1.0740\n",
       "WASP-033         2.1600  1.6790\n",
       "WASP-087         2.1800  1.3850\n",
       "HAT-P-56         2.1800  1.4660\n",
       "HAT-P-22         2.1920  1.0600\n",
       "WASP-008         2.2160  1.1650\n",
       "WASP-071         2.2420  1.4600\n",
       "HAT-P-14         2.2710  1.2190\n",
       "WASP-066         2.3200  1.3900\n",
       "CoRoT-11         2.3400  1.4260\n",
       "Kepler-017       2.3400  1.3100\n",
       "Qatar-2          2.4660  1.1150\n",
       "WASP-038         2.6910  1.0940\n",
       "KELT-09          2.8800  1.9360\n",
       "MASCARA-4        3.1000  1.5300\n",
       "HD_017156        3.2620  1.0650\n",
       "CoRoT-18         3.3000  1.1460\n",
       "HAT-P-34         3.3280  1.1970\n",
       "CoRoT-02         3.5700  1.4600\n",
       "WASP-032         3.6000  1.1800\n",
       "MASCARA-1        3.7000  1.5000\n",
       "HAT-P-69         3.7300  1.6260\n",
       "HD_080606        4.1140  1.0030\n",
       "HAT-P-16         4.1930  1.1900\n",
       "KELT-24          5.1800  1.2720\n",
       "Kepler-013       6.0000  1.4060\n",
       "HAT-P-20         7.2200  1.0250\n",
       "WASP-014         7.5900  1.2400\n",
       "HAT-P-02         8.7400  1.1900\n",
       "WASP-018        10.5200  1.2040\n",
       "XO-3            11.8300  1.2480\n",
       "HATS-70         12.9000  1.3840\n",
       "CoRoT-03        21.9600  1.0370\n",
       "KELT-01         27.3800  1.1160\n",
       "WASP-030        62.5000  0.9510"
      ]
     },
     "execution_count": 100,
     "metadata": {},
     "output_type": "execute_result"
    }
   ],
   "source": [
    "df.sort_values(by=['mass'])"
   ]
  },
  {
   "cell_type": "code",
   "execution_count": 101,
   "metadata": {},
   "outputs": [],
   "source": [
    "#change some values manually to pub values that are not minimally constrained in the html files\n",
    "df.at['EPIC_246851721', 'mass'] = 3.0\n",
    "df.at['KELT-20', 'mass'] = 3.382\n",
    "df.at['Kepler-063', 'mass'] = 0.378\n",
    "df.at['WASP-167', 'mass'] = 8\n",
    "df.at['HAT-P-70', 'mass'] = 6.78\n",
    "df.at['KELT-21', 'mass'] = 3.91\n",
    "df.at['KELT-19', 'mass'] = 4.07\n",
    "df.at['DS_Tuc', 'mass'] = 1.3"
   ]
  },
  {
   "cell_type": "code",
   "execution_count": 104,
   "metadata": {},
   "outputs": [],
   "source": [
    "df=df.reset_index()"
   ]
  },
  {
   "cell_type": "code",
   "execution_count": 105,
   "metadata": {},
   "outputs": [],
   "source": [
    "saturn=[0.299,0.8017]\n",
    "wasp29b=[0.24,0.79] #hellier 2010"
   ]
  },
  {
   "cell_type": "code",
   "execution_count": 106,
   "metadata": {},
   "outputs": [
    {
     "data": {
      "text/plain": [
       "<Figure size 720x720 with 0 Axes>"
      ]
     },
     "metadata": {},
     "output_type": "display_data"
    },
    {
     "data": {
      "image/png": "[encoded data removed]",
      "text/plain": [
       "<Figure size 432x288 with 1 Axes>"
      ]
     },
     "metadata": {
      "needs_background": "light"
     },
     "output_type": "display_data"
    }
   ],
   "source": [
    "plt.figure(figsize=(10, 10)) \n",
    "df.plot(kind='scatter',x='mass',y='radius',color='red')\n",
    "plt.scatter(wasp29b[0],wasp29b[1],color='green',label=\"WASP-29b\",marker='*',s=100)\n",
    "plt.scatter(saturn[0],saturn[1],color='blue',label=\"Saturn\",marker='v')\n",
    "\n",
    "for i in kdwarfs:\n",
    "    massi=float(df.loc[df['name'] == i]['mass'])\n",
    "    radiusi=float(df.loc[df['name'] == i]['radius'])\n",
    "    plt.scatter(massi,radiusi,color='orange',marker='D')\n",
    "plt.scatter(massi,radiusi,color='orange',marker='D',label=\"orbiting K-dwarfs, 3900 < \" + r'$T_{eff}$' + \" < 5200\")\n",
    "#plt.xscale('logit')\n",
    "plt.xlim(0,2)\n",
    "plt.title(\"Planets with obliquity measurements\",fontsize=14)\n",
    "plt.xlabel(\"Mass (\" + r'$M_{jup}$' + \")\")\n",
    "plt.ylabel(\"Radius (\" + r'$R_{jup}$' + \")\")\n",
    "plt.legend(loc='lower right')\n",
    "#plt.show()\n",
    "\n",
    "plt.savefig(\"MR-obliq-wasp29.png\", bbox_inches=\"tight\")"
   ]
  },
  {
   "cell_type": "code",
   "execution_count": null,
   "metadata": {},
   "outputs": [],
   "source": []
  }
 ],
 "metadata": {
  "kernelspec": {
   "display_name": "Python 3",
   "language": "python",
   "name": "python3"
  },
  "language_info": {
   "codemirror_mode": {
    "name": "ipython",
    "version": 3
   },
   "file_extension": ".py",
   "mimetype": "text/x-python",
   "name": "python",
   "nbconvert_exporter": "python",
   "pygments_lexer": "ipython3",
   "version": "3.7.3"
  }
 },
 "nbformat": 4,
 "nbformat_minor": 4
}
